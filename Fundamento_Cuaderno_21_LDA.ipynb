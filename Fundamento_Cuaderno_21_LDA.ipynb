{
  "nbformat": 4,
  "nbformat_minor": 0,
  "metadata": {
    "colab": {
      "provenance": [],
      "include_colab_link": true
    },
    "kernelspec": {
      "name": "python3",
      "display_name": "Python 3"
    },
    "language_info": {
      "name": "python"
    }
  },
  "cells": [
    {
      "cell_type": "markdown",
      "metadata": {
        "id": "view-in-github",
        "colab_type": "text"
      },
      "source": [
        "<a href=\"https://colab.research.google.com/github/amgito1648/clase-inteligencia-artificial/blob/main/Fundamento_Cuaderno_21_LDA.ipynb\" target=\"_parent\"><img src=\"https://colab.research.google.com/assets/colab-badge.svg\" alt=\"Open In Colab\"/></a>"
      ]
    },
    {
      "cell_type": "markdown",
      "source": [
        "#Cuaderno 21. Análisis discriminante lineal (LDA)\n",
        "\n",
        "##21.1 Introducción\n",
        "\n",
        "\n",
        "El Análisis Discriminante Lineal (LDA, por sus siglas en inglés) es una técnica supervisada de clasificación que permite asignar nuevas observaciones a categorías predefinidas basándose en sus características, que busca encontrar las combinaciones lineales de las características que mejor separan las clases en el conjunto de datos.\n",
        "\n",
        "A diferencia de la regresión logística, que es más adecuada para clasificar entre dos clases, el LDA se especializa en manejar múltiples categorías.\n",
        "\n",
        "LDA asume que las distribuciones de las características para cada clase tienen la misma covarianza. Si este supuesto no se cumple, los resultados pueden no ser óptimos.\n",
        "\n",
        "PCA busca encontrar las direcciones (componentes principales) que maximicen la varianza en los datos, de modo que se conserve la mayor cantidad de información posible mientras se reduce la dimensionalidad.\n",
        "\n",
        "LDA es más eficaz cuando las clases están bien separadas de manera lineal, ya que maximiza la distancia entre las clases mientras minimiza la varianza dentro de cada clase.\n",
        "\n",
        "\n",
        "Utiliza el teorema de Bayes para estimar la probabilidad de que una observación pertenezca a cada clase y asignarla al grupo con mayor probabilidad.\n",
        "\n",
        "\n",
        "Por ejemplo, en un problema de clasificación, como predecir el tipo de cliente según sus datos financieros, el LDA clasifica a los usuarios en categorías utilizando las probabilidades calculadas a partir de los datos de entrenamiento.\n",
        "\n",
        "\n",
        "Análisis Discriminante Lineal (LDA) también se puede utilizar como una técnica de reducción de características, además de ser un método de clasificación. Aunque su propósito principal es clasificar observaciones, LDA reduce la dimensionalidad del conjunto de datos proyectándolos en un espacio con un número reducido de dimensiones que maximizan la separación entre las clases.\n",
        "\n",
        "\n",
        "\n",
        "##21.2 Cómo funciona la reducción de características con LDA\n",
        "\n",
        "**Proyección en un subespacio lineal:**\n",
        "\n",
        "LDA proyecta los datos originales en un subespacio de menor dimensionalidad en el que las clases estén lo más separadas posible.\n",
        "Esto se logra maximizando la varianza entre clases ($𝑆_𝑏$) y minimizando la varianza dentro de las clases ($𝑆_𝑤$).\n",
        "\n",
        "El subespacio tendrá un máximo de 𝐶−1 dimensiones, donde 𝐶 es el número de clases en los datos.\n",
        "\n",
        "**Criterio de Fisher:**\n",
        "\n",
        "El LDA utiliza el criterio de Fisher para encontrar las direcciones que maximizan la separación entre clases:\n",
        "\n",
        "$$J(w) = \\frac{w^T S_b w}{w^T S_w w}$$\n",
        "\n",
        "Aquí, 𝑤 son los vectores de proyección, $𝑆_𝑏$  es la matriz de dispersión entre clases, y $𝑆_𝑤$ es la matriz de dispersión dentro de las clases.\n",
        "\n",
        "\n",
        "**Selección de características relevantes:**\n",
        "\n",
        "Las nuevas características proyectadas (también llamadas \"direcciones discriminantes\") tienen una menor dimensionalidad pero retienen la información más importante para separar las clases.\n",
        "\n",
        "**Pasos para usar LDA en reducción de características:**\n",
        "\n",
        "* Preparar los datos:\n",
        "\n",
        "    Los datos deben estar etiquetados (supervisados), ya que el LDA necesita las clases para calcular la varianza entre y dentro de las clases.\n",
        "\n",
        "* Entrenar el modelo LDA:\n",
        "\n",
        "    Ajustar el modelo utilizando las clases y las características de entrada.\n",
        "\n",
        "* Proyectar los datos en el subespacio:\n",
        "\n",
        "    Transformar los datos originales al nuevo espacio de menor dimensionalidad.\n",
        "\n",
        "* Usar las nuevas características:\n",
        "\n",
        "    Estas características pueden ser utilizadas como entrada para otros algoritmos de aprendizaje automático."
      ],
      "metadata": {
        "id": "SPTmJW_mlsmZ"
      }
    },
    {
      "cell_type": "markdown",
      "source": [
        "##21.3 Proceso de clasificación usando LDA\n",
        "\n",
        "**Fundamentos del Análisis Discriminante Lineal (LDA)**\n",
        "\n",
        "El Análisis Discriminante Lineal (LDA, por sus siglas en inglés) es un enfoque supervisado utilizado en la clasificación. Su fundamento radica en el teorema de Bayes, que calcula la probabilidad de que una observación pertenezca a una clase dada con base en los valores observados de los predictores. LDA estima estas probabilidades asignando una nueva observación a la clase con la mayor probabilidad posterior. En esencia, maximiza la separación entre las clases mientras minimiza la dispersión dentro de las mismas.\n",
        "\n",
        "La fórmula del teorema de Bayes aplicada en LDA se expresa como:\n",
        "\n",
        "$$\n",
        "P(Y=k|X=x) = \\frac{\\pi_k f_k(x)}{\\sum_{j=1}^{K} \\pi_j f_j(x)}\n",
        "$$\n",
        "\n",
        "Donde:\n",
        "\n",
        "$𝜋_𝑘$  es la probabilidad previa de la clase 𝑘.\n",
        "\n",
        "$𝑓_𝑘(𝑥)$ es la función de densidad condicional para la clase 𝑘.\n",
        "\n",
        "$𝑃(𝑌=𝑘∣𝑋=𝑥)$ es la probabilidad posterior.\n",
        "\n",
        "\n",
        "\n",
        "**Ventajas frente a otros métodos supervisados**\n",
        "\n",
        "LDA presenta varias ventajas sobre otros métodos supervisados como la regresión logística:\n",
        "\n",
        "**Manejo de múltiples clases:** A diferencia de la regresión logística, que se adapta mejor a problemas binarios, LDA es directamente aplicable a problemas de clasificación multiclase.\n",
        "\n",
        "**Estabilidad en casos de baja muestra:** En contextos con pocas observaciones y distribuciones aproximadamente normales, LDA genera modelos más estables que la regresión logística.\n",
        "\n",
        "Separación clara: Cuando las clases están bien separadas, LDA ofrece estimaciones más confiables al no sufrir de los problemas de inestabilidad de la regresión logística.\n",
        "\n",
        "**Simplicidad matemática:** LDA asume estructuras simples en las distribuciones de los datos, lo que facilita su interpretación.\n",
        "\n",
        "##**Aplicaciones comunes**\n",
        "\n",
        "El LDA se utiliza en diversas áreas, incluyendo:\n",
        "\n",
        "**Clasificación de clientes:** Para segmentar consumidores según sus comportamientos o características demográficas.\n",
        "\n",
        "**Diagnóstico médico:** En la identificación de enfermedades, como distinguir entre pacientes con diferentes tipos de cáncer basándose en biomarcadores.\n",
        "\n",
        "**Análisis de crédito:** Para predecir el riesgo crediticio de los solicitantes con base en sus historiales financieros y otras variables.\n",
        "\n",
        "**Reconocimiento facial:** En visión computacional, para identificar rostros humanos al reducir las dimensiones de características de imagen.\n",
        "\n",
        "LDA sigue siendo una herramienta poderosa gracias a su capacidad para separar clases de manera eficiente y su aplicación directa en problemas multiclase.\n"
      ],
      "metadata": {
        "id": "lRpKUg-EpZy3"
      }
    },
    {
      "cell_type": "markdown",
      "source": [
        "## 21.4 Proceso de Reducción de características usando LDA para mdelos supervisados\n",
        "\n"
      ],
      "metadata": {
        "id": "EzNuX2IrpwJM"
      }
    },
    {
      "cell_type": "markdown",
      "source": [
        "##Pasos para usar LDA en reducción de características:\n",
        "\n",
        "**Preparar los datos:**\n",
        "\n",
        "Los datos deben estar etiquetados (supervisados), ya que el LDA necesita las clases para calcular la varianza entre y dentro de las clases.\n",
        "\n",
        "**Entrenar el modelo LDA:**\n",
        "\n",
        "Ajustar el modelo utilizando las clases y las características de entrada.\n",
        "Proyectar los datos en el subespacio:\n",
        "\n",
        "Transformar los datos originales al nuevo espacio de menor dimensionalidad.\n",
        "\n",
        "**Usar las nuevas características:**\n",
        "\n",
        "Estas características pueden ser utilizadas como entrada para otros algoritmos de aprendizaje automático."
      ],
      "metadata": {
        "id": "enCbPIaLzSpL"
      }
    },
    {
      "cell_type": "markdown",
      "source": [
        "##21.5 Taller LDA para selección de características\n",
        "\n",
        "El conjunto de datos está relacionado con clientes bancarios. A continuación, se explica brevemente cada una de las columnas:\n",
        "\n",
        "    RowNumber: Número de fila o identificador de la fila en el conjunto de datos.\n",
        "    CustomerId: ID único asignado a cada cliente.\n",
        "    Surname: Apellido del cliente.\n",
        "    CreditScore: Puntaje de crédito del cliente, que puede ser una medida de su historial crediticio.\n",
        "    Geography: Ubicación geográfica del cliente (país o región).\n",
        "    Gender: Género del cliente (masculino o femenino).\n",
        "    Age: Edad del cliente.\n",
        "    Tenure: Tiempo que el cliente ha estado con el banco (en años).\n",
        "    Balance: El balance actual de la cuenta bancaria del cliente.\n",
        "    NumOfProducts: Número de productos bancarios que el cliente tiene con el banco (por ejemplo, cuentas corrientes, tarjetas de crédito, préstamos, etc.).\n",
        "    HasCrCard: Si el cliente tiene una tarjeta de crédito (valor binario: 1 = sí, 0 = no).\n",
        "    IsActiveMember: Si el cliente es un miembro activo del banco (valor binario: 1 = activo, 0 = inactivo).\n",
        "    EstimatedSalary: Salario estimado del cliente.\n",
        "    Exited: Indicador de si el cliente ha abandonado el banco (valor binario: 1 = abandonó, 0 = no abandonó).\n",
        "\n",
        "Se desea realizar un análisis de este conjunto de datos usando LDA sobre un conjunto de datos de clientes. Además, se utiliza SMOTE (Synthetic Minority Over-sampling Technique) para equilibrar las clases en el conjunto de entrenamiento, lo que ayuda a mejorar el rendimiento del modelo cuando las clases están desbalanceadas.\n",
        "\n",
        "Conceptos Importantes:\n",
        "\n",
        "**LDA (Linear Discriminant Analysis)**: LDA es una técnica de reducción de dimensionalidad supervisada que intenta encontrar las mejores combinaciones lineales de las características para separar las clases. En un caso con 2 clases, el modelo generalmente proyecta los datos a una sola dimensión, ya que solo se necesita una dimensión para separar dos clases.\n",
        "\n",
        "**SMOTE (Synthetic Minority Over-sampling Technique):** SMOTE es una técnica de sobremuestreo que genera nuevas instancias sintéticas de la clase minoritaria, lo que ayuda a resolver el problema del desbalanceo de clases.\n",
        "\n",
        "**Validación cruzada:** Es importante evaluar el modelo utilizando validación cruzada para determinar el número óptimo de componentes de LDA, lo que puede mejorar la capacidad de generalización del modelo."
      ],
      "metadata": {
        "id": "19aQnT9A0EzU"
      }
    },
    {
      "cell_type": "markdown",
      "source": [
        "## Importar las librerias y cargar las fuentes del dataset\n",
        "\n",
        "*        Lectura de datos: Se cargan datos desde un archivo CSV disponible en línea.\n",
        "\n",
        "*        Manejo de valores faltantes: Se eliminan las filas con valores faltantes usando .dropna().\n",
        "\n",
        "*        Codificación de variables categóricas: Las variables categóricas Geography y Gender son codificadas usando LabelEncoder para que puedan ser procesadas por los modelos de machine learning."
      ],
      "metadata": {
        "id": "d9f6NwjR17P7"
      }
    },
    {
      "cell_type": "code",
      "execution_count": null,
      "metadata": {
        "id": "9RcInj7zlnPE"
      },
      "outputs": [],
      "source": [
        "import pandas as pd\n",
        "import numpy as np\n",
        "from sklearn.model_selection import train_test_split\n",
        "from sklearn.preprocessing import StandardScaler, LabelEncoder\n",
        "from sklearn.discriminant_analysis import LinearDiscriminantAnalysis\n",
        "from sklearn.metrics import classification_report, confusion_matrix\n",
        "import matplotlib.pyplot as plt\n",
        "import seaborn as sns\n",
        "\n",
        "# Cargar datos\n",
        "url = \"https://raw.githubusercontent.com/adiacla/bigdata/refs/heads/master/Churn_Modelling.csv\"\n",
        "data = pd.read_csv(url)"
      ]
    },
    {
      "cell_type": "markdown",
      "source": [
        "Verificar los datos"
      ],
      "metadata": {
        "id": "pvSutSGZ2DpS"
      }
    },
    {
      "cell_type": "code",
      "source": [
        "# Vista inicial de los datos\n",
        "data.head()"
      ],
      "metadata": {
        "colab": {
          "base_uri": "https://localhost:8080/",
          "height": 226
        },
        "id": "1kbUaUSS2EA0",
        "outputId": "e9923233-5f6f-43c5-d739-03711b29e399"
      },
      "execution_count": null,
      "outputs": [
        {
          "output_type": "execute_result",
          "data": {
            "text/plain": [
              "   RowNumber  CustomerId   Surname  CreditScore Geography  Gender   Age  \\\n",
              "0          1    15634602  Hargrave          619    France  Female  42.0   \n",
              "1          1    15634602  Hargrave          619    France  Female  42.0   \n",
              "2          2    15647311      Hill          608     Spain     NaN  41.0   \n",
              "3          3    15619304      Onio          502    France  Female  42.0   \n",
              "4          4    15701354      Boni          699    France  Female  39.0   \n",
              "\n",
              "   Tenure    Balance  NumOfProducts  HasCrCard  IsActiveMember  \\\n",
              "0       2       0.00              1          1               1   \n",
              "1       2       0.00              1          1               1   \n",
              "2       1   83807.86             25          0               1   \n",
              "3       8  159660.80              3          1               0   \n",
              "4       1       0.00              2          0               0   \n",
              "\n",
              "   EstimatedSalary  Exited  \n",
              "0        101348.88       1  \n",
              "1        101348.88       1  \n",
              "2        112542.58       0  \n",
              "3        113931.57       1  \n",
              "4         93826.63       0  "
            ],
            "text/html": [
              "\n",
              "  <div id=\"df-e16f6eff-23a2-4591-833d-89a6f9109324\" class=\"colab-df-container\">\n",
              "    <div>\n",
              "<style scoped>\n",
              "    .dataframe tbody tr th:only-of-type {\n",
              "        vertical-align: middle;\n",
              "    }\n",
              "\n",
              "    .dataframe tbody tr th {\n",
              "        vertical-align: top;\n",
              "    }\n",
              "\n",
              "    .dataframe thead th {\n",
              "        text-align: right;\n",
              "    }\n",
              "</style>\n",
              "<table border=\"1\" class=\"dataframe\">\n",
              "  <thead>\n",
              "    <tr style=\"text-align: right;\">\n",
              "      <th></th>\n",
              "      <th>RowNumber</th>\n",
              "      <th>CustomerId</th>\n",
              "      <th>Surname</th>\n",
              "      <th>CreditScore</th>\n",
              "      <th>Geography</th>\n",
              "      <th>Gender</th>\n",
              "      <th>Age</th>\n",
              "      <th>Tenure</th>\n",
              "      <th>Balance</th>\n",
              "      <th>NumOfProducts</th>\n",
              "      <th>HasCrCard</th>\n",
              "      <th>IsActiveMember</th>\n",
              "      <th>EstimatedSalary</th>\n",
              "      <th>Exited</th>\n",
              "    </tr>\n",
              "  </thead>\n",
              "  <tbody>\n",
              "    <tr>\n",
              "      <th>0</th>\n",
              "      <td>1</td>\n",
              "      <td>15634602</td>\n",
              "      <td>Hargrave</td>\n",
              "      <td>619</td>\n",
              "      <td>France</td>\n",
              "      <td>Female</td>\n",
              "      <td>42.0</td>\n",
              "      <td>2</td>\n",
              "      <td>0.00</td>\n",
              "      <td>1</td>\n",
              "      <td>1</td>\n",
              "      <td>1</td>\n",
              "      <td>101348.88</td>\n",
              "      <td>1</td>\n",
              "    </tr>\n",
              "    <tr>\n",
              "      <th>1</th>\n",
              "      <td>1</td>\n",
              "      <td>15634602</td>\n",
              "      <td>Hargrave</td>\n",
              "      <td>619</td>\n",
              "      <td>France</td>\n",
              "      <td>Female</td>\n",
              "      <td>42.0</td>\n",
              "      <td>2</td>\n",
              "      <td>0.00</td>\n",
              "      <td>1</td>\n",
              "      <td>1</td>\n",
              "      <td>1</td>\n",
              "      <td>101348.88</td>\n",
              "      <td>1</td>\n",
              "    </tr>\n",
              "    <tr>\n",
              "      <th>2</th>\n",
              "      <td>2</td>\n",
              "      <td>15647311</td>\n",
              "      <td>Hill</td>\n",
              "      <td>608</td>\n",
              "      <td>Spain</td>\n",
              "      <td>NaN</td>\n",
              "      <td>41.0</td>\n",
              "      <td>1</td>\n",
              "      <td>83807.86</td>\n",
              "      <td>25</td>\n",
              "      <td>0</td>\n",
              "      <td>1</td>\n",
              "      <td>112542.58</td>\n",
              "      <td>0</td>\n",
              "    </tr>\n",
              "    <tr>\n",
              "      <th>3</th>\n",
              "      <td>3</td>\n",
              "      <td>15619304</td>\n",
              "      <td>Onio</td>\n",
              "      <td>502</td>\n",
              "      <td>France</td>\n",
              "      <td>Female</td>\n",
              "      <td>42.0</td>\n",
              "      <td>8</td>\n",
              "      <td>159660.80</td>\n",
              "      <td>3</td>\n",
              "      <td>1</td>\n",
              "      <td>0</td>\n",
              "      <td>113931.57</td>\n",
              "      <td>1</td>\n",
              "    </tr>\n",
              "    <tr>\n",
              "      <th>4</th>\n",
              "      <td>4</td>\n",
              "      <td>15701354</td>\n",
              "      <td>Boni</td>\n",
              "      <td>699</td>\n",
              "      <td>France</td>\n",
              "      <td>Female</td>\n",
              "      <td>39.0</td>\n",
              "      <td>1</td>\n",
              "      <td>0.00</td>\n",
              "      <td>2</td>\n",
              "      <td>0</td>\n",
              "      <td>0</td>\n",
              "      <td>93826.63</td>\n",
              "      <td>0</td>\n",
              "    </tr>\n",
              "  </tbody>\n",
              "</table>\n",
              "</div>\n",
              "    <div class=\"colab-df-buttons\">\n",
              "\n",
              "  <div class=\"colab-df-container\">\n",
              "    <button class=\"colab-df-convert\" onclick=\"convertToInteractive('df-e16f6eff-23a2-4591-833d-89a6f9109324')\"\n",
              "            title=\"Convert this dataframe to an interactive table.\"\n",
              "            style=\"display:none;\">\n",
              "\n",
              "  <svg xmlns=\"http://www.w3.org/2000/svg\" height=\"24px\" viewBox=\"0 -960 960 960\">\n",
              "    <path d=\"M120-120v-720h720v720H120Zm60-500h600v-160H180v160Zm220 220h160v-160H400v160Zm0 220h160v-160H400v160ZM180-400h160v-160H180v160Zm440 0h160v-160H620v160ZM180-180h160v-160H180v160Zm440 0h160v-160H620v160Z\"/>\n",
              "  </svg>\n",
              "    </button>\n",
              "\n",
              "  <style>\n",
              "    .colab-df-container {\n",
              "      display:flex;\n",
              "      gap: 12px;\n",
              "    }\n",
              "\n",
              "    .colab-df-convert {\n",
              "      background-color: #E8F0FE;\n",
              "      border: none;\n",
              "      border-radius: 50%;\n",
              "      cursor: pointer;\n",
              "      display: none;\n",
              "      fill: #1967D2;\n",
              "      height: 32px;\n",
              "      padding: 0 0 0 0;\n",
              "      width: 32px;\n",
              "    }\n",
              "\n",
              "    .colab-df-convert:hover {\n",
              "      background-color: #E2EBFA;\n",
              "      box-shadow: 0px 1px 2px rgba(60, 64, 67, 0.3), 0px 1px 3px 1px rgba(60, 64, 67, 0.15);\n",
              "      fill: #174EA6;\n",
              "    }\n",
              "\n",
              "    .colab-df-buttons div {\n",
              "      margin-bottom: 4px;\n",
              "    }\n",
              "\n",
              "    [theme=dark] .colab-df-convert {\n",
              "      background-color: #3B4455;\n",
              "      fill: #D2E3FC;\n",
              "    }\n",
              "\n",
              "    [theme=dark] .colab-df-convert:hover {\n",
              "      background-color: #434B5C;\n",
              "      box-shadow: 0px 1px 3px 1px rgba(0, 0, 0, 0.15);\n",
              "      filter: drop-shadow(0px 1px 2px rgba(0, 0, 0, 0.3));\n",
              "      fill: #FFFFFF;\n",
              "    }\n",
              "  </style>\n",
              "\n",
              "    <script>\n",
              "      const buttonEl =\n",
              "        document.querySelector('#df-e16f6eff-23a2-4591-833d-89a6f9109324 button.colab-df-convert');\n",
              "      buttonEl.style.display =\n",
              "        google.colab.kernel.accessAllowed ? 'block' : 'none';\n",
              "\n",
              "      async function convertToInteractive(key) {\n",
              "        const element = document.querySelector('#df-e16f6eff-23a2-4591-833d-89a6f9109324');\n",
              "        const dataTable =\n",
              "          await google.colab.kernel.invokeFunction('convertToInteractive',\n",
              "                                                    [key], {});\n",
              "        if (!dataTable) return;\n",
              "\n",
              "        const docLinkHtml = 'Like what you see? Visit the ' +\n",
              "          '<a target=\"_blank\" href=https://colab.research.google.com/notebooks/data_table.ipynb>data table notebook</a>'\n",
              "          + ' to learn more about interactive tables.';\n",
              "        element.innerHTML = '';\n",
              "        dataTable['output_type'] = 'display_data';\n",
              "        await google.colab.output.renderOutput(dataTable, element);\n",
              "        const docLink = document.createElement('div');\n",
              "        docLink.innerHTML = docLinkHtml;\n",
              "        element.appendChild(docLink);\n",
              "      }\n",
              "    </script>\n",
              "  </div>\n",
              "\n",
              "\n",
              "<div id=\"df-71b7bee7-1774-4539-b541-f57b3e2b0452\">\n",
              "  <button class=\"colab-df-quickchart\" onclick=\"quickchart('df-71b7bee7-1774-4539-b541-f57b3e2b0452')\"\n",
              "            title=\"Suggest charts\"\n",
              "            style=\"display:none;\">\n",
              "\n",
              "<svg xmlns=\"http://www.w3.org/2000/svg\" height=\"24px\"viewBox=\"0 0 24 24\"\n",
              "     width=\"24px\">\n",
              "    <g>\n",
              "        <path d=\"M19 3H5c-1.1 0-2 .9-2 2v14c0 1.1.9 2 2 2h14c1.1 0 2-.9 2-2V5c0-1.1-.9-2-2-2zM9 17H7v-7h2v7zm4 0h-2V7h2v10zm4 0h-2v-4h2v4z\"/>\n",
              "    </g>\n",
              "</svg>\n",
              "  </button>\n",
              "\n",
              "<style>\n",
              "  .colab-df-quickchart {\n",
              "      --bg-color: #E8F0FE;\n",
              "      --fill-color: #1967D2;\n",
              "      --hover-bg-color: #E2EBFA;\n",
              "      --hover-fill-color: #174EA6;\n",
              "      --disabled-fill-color: #AAA;\n",
              "      --disabled-bg-color: #DDD;\n",
              "  }\n",
              "\n",
              "  [theme=dark] .colab-df-quickchart {\n",
              "      --bg-color: #3B4455;\n",
              "      --fill-color: #D2E3FC;\n",
              "      --hover-bg-color: #434B5C;\n",
              "      --hover-fill-color: #FFFFFF;\n",
              "      --disabled-bg-color: #3B4455;\n",
              "      --disabled-fill-color: #666;\n",
              "  }\n",
              "\n",
              "  .colab-df-quickchart {\n",
              "    background-color: var(--bg-color);\n",
              "    border: none;\n",
              "    border-radius: 50%;\n",
              "    cursor: pointer;\n",
              "    display: none;\n",
              "    fill: var(--fill-color);\n",
              "    height: 32px;\n",
              "    padding: 0;\n",
              "    width: 32px;\n",
              "  }\n",
              "\n",
              "  .colab-df-quickchart:hover {\n",
              "    background-color: var(--hover-bg-color);\n",
              "    box-shadow: 0 1px 2px rgba(60, 64, 67, 0.3), 0 1px 3px 1px rgba(60, 64, 67, 0.15);\n",
              "    fill: var(--button-hover-fill-color);\n",
              "  }\n",
              "\n",
              "  .colab-df-quickchart-complete:disabled,\n",
              "  .colab-df-quickchart-complete:disabled:hover {\n",
              "    background-color: var(--disabled-bg-color);\n",
              "    fill: var(--disabled-fill-color);\n",
              "    box-shadow: none;\n",
              "  }\n",
              "\n",
              "  .colab-df-spinner {\n",
              "    border: 2px solid var(--fill-color);\n",
              "    border-color: transparent;\n",
              "    border-bottom-color: var(--fill-color);\n",
              "    animation:\n",
              "      spin 1s steps(1) infinite;\n",
              "  }\n",
              "\n",
              "  @keyframes spin {\n",
              "    0% {\n",
              "      border-color: transparent;\n",
              "      border-bottom-color: var(--fill-color);\n",
              "      border-left-color: var(--fill-color);\n",
              "    }\n",
              "    20% {\n",
              "      border-color: transparent;\n",
              "      border-left-color: var(--fill-color);\n",
              "      border-top-color: var(--fill-color);\n",
              "    }\n",
              "    30% {\n",
              "      border-color: transparent;\n",
              "      border-left-color: var(--fill-color);\n",
              "      border-top-color: var(--fill-color);\n",
              "      border-right-color: var(--fill-color);\n",
              "    }\n",
              "    40% {\n",
              "      border-color: transparent;\n",
              "      border-right-color: var(--fill-color);\n",
              "      border-top-color: var(--fill-color);\n",
              "    }\n",
              "    60% {\n",
              "      border-color: transparent;\n",
              "      border-right-color: var(--fill-color);\n",
              "    }\n",
              "    80% {\n",
              "      border-color: transparent;\n",
              "      border-right-color: var(--fill-color);\n",
              "      border-bottom-color: var(--fill-color);\n",
              "    }\n",
              "    90% {\n",
              "      border-color: transparent;\n",
              "      border-bottom-color: var(--fill-color);\n",
              "    }\n",
              "  }\n",
              "</style>\n",
              "\n",
              "  <script>\n",
              "    async function quickchart(key) {\n",
              "      const quickchartButtonEl =\n",
              "        document.querySelector('#' + key + ' button');\n",
              "      quickchartButtonEl.disabled = true;  // To prevent multiple clicks.\n",
              "      quickchartButtonEl.classList.add('colab-df-spinner');\n",
              "      try {\n",
              "        const charts = await google.colab.kernel.invokeFunction(\n",
              "            'suggestCharts', [key], {});\n",
              "      } catch (error) {\n",
              "        console.error('Error during call to suggestCharts:', error);\n",
              "      }\n",
              "      quickchartButtonEl.classList.remove('colab-df-spinner');\n",
              "      quickchartButtonEl.classList.add('colab-df-quickchart-complete');\n",
              "    }\n",
              "    (() => {\n",
              "      let quickchartButtonEl =\n",
              "        document.querySelector('#df-71b7bee7-1774-4539-b541-f57b3e2b0452 button');\n",
              "      quickchartButtonEl.style.display =\n",
              "        google.colab.kernel.accessAllowed ? 'block' : 'none';\n",
              "    })();\n",
              "  </script>\n",
              "</div>\n",
              "\n",
              "    </div>\n",
              "  </div>\n"
            ],
            "application/vnd.google.colaboratory.intrinsic+json": {
              "type": "dataframe",
              "variable_name": "data",
              "summary": "{\n  \"name\": \"data\",\n  \"rows\": 10002,\n  \"fields\": [\n    {\n      \"column\": \"RowNumber\",\n      \"properties\": {\n        \"dtype\": \"number\",\n        \"std\": 2887,\n        \"min\": 1,\n        \"max\": 10000,\n        \"num_unique_values\": 10000,\n        \"samples\": [\n          6253,\n          4685,\n          1732\n        ],\n        \"semantic_type\": \"\",\n        \"description\": \"\"\n      }\n    },\n    {\n      \"column\": \"CustomerId\",\n      \"properties\": {\n        \"dtype\": \"number\",\n        \"std\": 71932,\n        \"min\": 15565701,\n        \"max\": 15815690,\n        \"num_unique_values\": 10000,\n        \"samples\": [\n          15687492,\n          15736963,\n          15721730\n        ],\n        \"semantic_type\": \"\",\n        \"description\": \"\"\n      }\n    },\n    {\n      \"column\": \"Surname\",\n      \"properties\": {\n        \"dtype\": \"category\",\n        \"num_unique_values\": 2931,\n        \"samples\": [\n          \"Ruth\",\n          \"Hightower\",\n          \"Cyril\"\n        ],\n        \"semantic_type\": \"\",\n        \"description\": \"\"\n      }\n    },\n    {\n      \"column\": \"CreditScore\",\n      \"properties\": {\n        \"dtype\": \"number\",\n        \"std\": 96,\n        \"min\": 350,\n        \"max\": 850,\n        \"num_unique_values\": 460,\n        \"samples\": [\n          754,\n          533,\n          744\n        ],\n        \"semantic_type\": \"\",\n        \"description\": \"\"\n      }\n    },\n    {\n      \"column\": \"Geography\",\n      \"properties\": {\n        \"dtype\": \"category\",\n        \"num_unique_values\": 3,\n        \"samples\": [\n          \"France\",\n          \"Spain\",\n          \"Germany\"\n        ],\n        \"semantic_type\": \"\",\n        \"description\": \"\"\n      }\n    },\n    {\n      \"column\": \"Gender\",\n      \"properties\": {\n        \"dtype\": \"category\",\n        \"num_unique_values\": 2,\n        \"samples\": [\n          \"Male\",\n          \"Female\"\n        ],\n        \"semantic_type\": \"\",\n        \"description\": \"\"\n      }\n    },\n    {\n      \"column\": \"Age\",\n      \"properties\": {\n        \"dtype\": \"number\",\n        \"std\": 10.488788065873182,\n        \"min\": 18.0,\n        \"max\": 92.0,\n        \"num_unique_values\": 70,\n        \"samples\": [\n          61.0,\n          42.0\n        ],\n        \"semantic_type\": \"\",\n        \"description\": \"\"\n      }\n    },\n    {\n      \"column\": \"Tenure\",\n      \"properties\": {\n        \"dtype\": \"number\",\n        \"std\": 2,\n        \"min\": 0,\n        \"max\": 10,\n        \"num_unique_values\": 11,\n        \"samples\": [\n          6,\n          2\n        ],\n        \"semantic_type\": \"\",\n        \"description\": \"\"\n      }\n    },\n    {\n      \"column\": \"Balance\",\n      \"properties\": {\n        \"dtype\": \"number\",\n        \"std\": 62399.41191834526,\n        \"min\": 0.0,\n        \"max\": 250898.09,\n        \"num_unique_values\": 6382,\n        \"samples\": [\n          117707.18,\n          133050.97\n        ],\n        \"semantic_type\": \"\",\n        \"description\": \"\"\n      }\n    },\n    {\n      \"column\": \"NumOfProducts\",\n      \"properties\": {\n        \"dtype\": \"number\",\n        \"std\": 0,\n        \"min\": 1,\n        \"max\": 25,\n        \"num_unique_values\": 5,\n        \"samples\": [\n          25,\n          4\n        ],\n        \"semantic_type\": \"\",\n        \"description\": \"\"\n      }\n    },\n    {\n      \"column\": \"HasCrCard\",\n      \"properties\": {\n        \"dtype\": \"number\",\n        \"std\": 0,\n        \"min\": 0,\n        \"max\": 1,\n        \"num_unique_values\": 2,\n        \"samples\": [\n          0,\n          1\n        ],\n        \"semantic_type\": \"\",\n        \"description\": \"\"\n      }\n    },\n    {\n      \"column\": \"IsActiveMember\",\n      \"properties\": {\n        \"dtype\": \"number\",\n        \"std\": 0,\n        \"min\": 0,\n        \"max\": 1,\n        \"num_unique_values\": 2,\n        \"samples\": [\n          0,\n          1\n        ],\n        \"semantic_type\": \"\",\n        \"description\": \"\"\n      }\n    },\n    {\n      \"column\": \"EstimatedSalary\",\n      \"properties\": {\n        \"dtype\": \"number\",\n        \"std\": 57505.85528191282,\n        \"min\": 11.58,\n        \"max\": 199992.48,\n        \"num_unique_values\": 9999,\n        \"samples\": [\n          100809.99,\n          95273.73\n        ],\n        \"semantic_type\": \"\",\n        \"description\": \"\"\n      }\n    },\n    {\n      \"column\": \"Exited\",\n      \"properties\": {\n        \"dtype\": \"number\",\n        \"std\": 0,\n        \"min\": 0,\n        \"max\": 1,\n        \"num_unique_values\": 2,\n        \"samples\": [\n          0,\n          1\n        ],\n        \"semantic_type\": \"\",\n        \"description\": \"\"\n      }\n    }\n  ]\n}"
            }
          },
          "metadata": {},
          "execution_count": 2
        }
      ]
    },
    {
      "cell_type": "code",
      "source": [
        "data.info()\n"
      ],
      "metadata": {
        "colab": {
          "base_uri": "https://localhost:8080/"
        },
        "id": "aAOXlZ90KDop",
        "outputId": "9ee9f633-4b66-4593-fd4f-b8905a3ff42d"
      },
      "execution_count": null,
      "outputs": [
        {
          "output_type": "stream",
          "name": "stdout",
          "text": [
            "<class 'pandas.core.frame.DataFrame'>\n",
            "RangeIndex: 10002 entries, 0 to 10001\n",
            "Data columns (total 14 columns):\n",
            " #   Column           Non-Null Count  Dtype  \n",
            "---  ------           --------------  -----  \n",
            " 0   RowNumber        10002 non-null  int64  \n",
            " 1   CustomerId       10002 non-null  int64  \n",
            " 2   Surname          9997 non-null   object \n",
            " 3   CreditScore      10002 non-null  int64  \n",
            " 4   Geography        10002 non-null  object \n",
            " 5   Gender           10001 non-null  object \n",
            " 6   Age              9997 non-null   float64\n",
            " 7   Tenure           10002 non-null  int64  \n",
            " 8   Balance          10002 non-null  float64\n",
            " 9   NumOfProducts    10002 non-null  int64  \n",
            " 10  HasCrCard        10002 non-null  int64  \n",
            " 11  IsActiveMember   10002 non-null  int64  \n",
            " 12  EstimatedSalary  10002 non-null  float64\n",
            " 13  Exited           10002 non-null  int64  \n",
            "dtypes: float64(3), int64(8), object(3)\n",
            "memory usage: 1.1+ MB\n"
          ]
        }
      ]
    },
    {
      "cell_type": "code",
      "source": [
        "data.describe()"
      ],
      "metadata": {
        "colab": {
          "base_uri": "https://localhost:8080/",
          "height": 320
        },
        "id": "vEUtlzxCKHvD",
        "outputId": "83068ea5-a1df-40ae-8b26-fe126100fdad"
      },
      "execution_count": null,
      "outputs": [
        {
          "output_type": "execute_result",
          "data": {
            "text/plain": [
              "          RowNumber    CustomerId   CreditScore          Age        Tenure  \\\n",
              "count  10002.000000  1.000200e+04  10002.000000  9997.000000  10002.000000   \n",
              "mean    4999.501800  1.569093e+07    650.522196    38.922977      5.012298   \n",
              "std     2887.469918  7.193273e+04     96.644765    10.488788      2.892112   \n",
              "min        1.000000  1.556570e+07    350.000000    18.000000      0.000000   \n",
              "25%     2499.250000  1.562854e+07    584.000000    32.000000      3.000000   \n",
              "50%     4999.500000  1.569073e+07    652.000000    37.000000      5.000000   \n",
              "75%     7499.750000  1.575323e+07    717.750000    44.000000      7.000000   \n",
              "max    10000.000000  1.581569e+07    850.000000    92.000000     10.000000   \n",
              "\n",
              "             Balance  NumOfProducts     HasCrCard  IsActiveMember  \\\n",
              "count   10002.000000   10002.000000  10002.000000    10002.000000   \n",
              "mean    76484.905248       1.532593      0.705459        0.515197   \n",
              "std     62399.411918       0.627175      0.455859        0.499794   \n",
              "min         0.000000       1.000000      0.000000        0.000000   \n",
              "25%         0.000000       1.000000      0.000000        0.000000   \n",
              "50%     97198.540000       1.000000      1.000000        1.000000   \n",
              "75%    127647.840000       2.000000      1.000000        1.000000   \n",
              "max    250898.090000      25.000000      1.000000        1.000000   \n",
              "\n",
              "       EstimatedSalary        Exited  \n",
              "count     10002.000000  10002.000000  \n",
              "mean     100086.790137      0.203759  \n",
              "std       57505.855282      0.402812  \n",
              "min          11.580000      0.000000  \n",
              "25%       51012.472500      0.000000  \n",
              "50%      100193.915000      0.000000  \n",
              "75%      149383.652500      0.000000  \n",
              "max      199992.480000      1.000000  "
            ],
            "text/html": [
              "\n",
              "  <div id=\"df-8389ca51-fe77-4afa-9fc6-0dbc63690489\" class=\"colab-df-container\">\n",
              "    <div>\n",
              "<style scoped>\n",
              "    .dataframe tbody tr th:only-of-type {\n",
              "        vertical-align: middle;\n",
              "    }\n",
              "\n",
              "    .dataframe tbody tr th {\n",
              "        vertical-align: top;\n",
              "    }\n",
              "\n",
              "    .dataframe thead th {\n",
              "        text-align: right;\n",
              "    }\n",
              "</style>\n",
              "<table border=\"1\" class=\"dataframe\">\n",
              "  <thead>\n",
              "    <tr style=\"text-align: right;\">\n",
              "      <th></th>\n",
              "      <th>RowNumber</th>\n",
              "      <th>CustomerId</th>\n",
              "      <th>CreditScore</th>\n",
              "      <th>Age</th>\n",
              "      <th>Tenure</th>\n",
              "      <th>Balance</th>\n",
              "      <th>NumOfProducts</th>\n",
              "      <th>HasCrCard</th>\n",
              "      <th>IsActiveMember</th>\n",
              "      <th>EstimatedSalary</th>\n",
              "      <th>Exited</th>\n",
              "    </tr>\n",
              "  </thead>\n",
              "  <tbody>\n",
              "    <tr>\n",
              "      <th>count</th>\n",
              "      <td>10002.000000</td>\n",
              "      <td>1.000200e+04</td>\n",
              "      <td>10002.000000</td>\n",
              "      <td>9997.000000</td>\n",
              "      <td>10002.000000</td>\n",
              "      <td>10002.000000</td>\n",
              "      <td>10002.000000</td>\n",
              "      <td>10002.000000</td>\n",
              "      <td>10002.000000</td>\n",
              "      <td>10002.000000</td>\n",
              "      <td>10002.000000</td>\n",
              "    </tr>\n",
              "    <tr>\n",
              "      <th>mean</th>\n",
              "      <td>4999.501800</td>\n",
              "      <td>1.569093e+07</td>\n",
              "      <td>650.522196</td>\n",
              "      <td>38.922977</td>\n",
              "      <td>5.012298</td>\n",
              "      <td>76484.905248</td>\n",
              "      <td>1.532593</td>\n",
              "      <td>0.705459</td>\n",
              "      <td>0.515197</td>\n",
              "      <td>100086.790137</td>\n",
              "      <td>0.203759</td>\n",
              "    </tr>\n",
              "    <tr>\n",
              "      <th>std</th>\n",
              "      <td>2887.469918</td>\n",
              "      <td>7.193273e+04</td>\n",
              "      <td>96.644765</td>\n",
              "      <td>10.488788</td>\n",
              "      <td>2.892112</td>\n",
              "      <td>62399.411918</td>\n",
              "      <td>0.627175</td>\n",
              "      <td>0.455859</td>\n",
              "      <td>0.499794</td>\n",
              "      <td>57505.855282</td>\n",
              "      <td>0.402812</td>\n",
              "    </tr>\n",
              "    <tr>\n",
              "      <th>min</th>\n",
              "      <td>1.000000</td>\n",
              "      <td>1.556570e+07</td>\n",
              "      <td>350.000000</td>\n",
              "      <td>18.000000</td>\n",
              "      <td>0.000000</td>\n",
              "      <td>0.000000</td>\n",
              "      <td>1.000000</td>\n",
              "      <td>0.000000</td>\n",
              "      <td>0.000000</td>\n",
              "      <td>11.580000</td>\n",
              "      <td>0.000000</td>\n",
              "    </tr>\n",
              "    <tr>\n",
              "      <th>25%</th>\n",
              "      <td>2499.250000</td>\n",
              "      <td>1.562854e+07</td>\n",
              "      <td>584.000000</td>\n",
              "      <td>32.000000</td>\n",
              "      <td>3.000000</td>\n",
              "      <td>0.000000</td>\n",
              "      <td>1.000000</td>\n",
              "      <td>0.000000</td>\n",
              "      <td>0.000000</td>\n",
              "      <td>51012.472500</td>\n",
              "      <td>0.000000</td>\n",
              "    </tr>\n",
              "    <tr>\n",
              "      <th>50%</th>\n",
              "      <td>4999.500000</td>\n",
              "      <td>1.569073e+07</td>\n",
              "      <td>652.000000</td>\n",
              "      <td>37.000000</td>\n",
              "      <td>5.000000</td>\n",
              "      <td>97198.540000</td>\n",
              "      <td>1.000000</td>\n",
              "      <td>1.000000</td>\n",
              "      <td>1.000000</td>\n",
              "      <td>100193.915000</td>\n",
              "      <td>0.000000</td>\n",
              "    </tr>\n",
              "    <tr>\n",
              "      <th>75%</th>\n",
              "      <td>7499.750000</td>\n",
              "      <td>1.575323e+07</td>\n",
              "      <td>717.750000</td>\n",
              "      <td>44.000000</td>\n",
              "      <td>7.000000</td>\n",
              "      <td>127647.840000</td>\n",
              "      <td>2.000000</td>\n",
              "      <td>1.000000</td>\n",
              "      <td>1.000000</td>\n",
              "      <td>149383.652500</td>\n",
              "      <td>0.000000</td>\n",
              "    </tr>\n",
              "    <tr>\n",
              "      <th>max</th>\n",
              "      <td>10000.000000</td>\n",
              "      <td>1.581569e+07</td>\n",
              "      <td>850.000000</td>\n",
              "      <td>92.000000</td>\n",
              "      <td>10.000000</td>\n",
              "      <td>250898.090000</td>\n",
              "      <td>25.000000</td>\n",
              "      <td>1.000000</td>\n",
              "      <td>1.000000</td>\n",
              "      <td>199992.480000</td>\n",
              "      <td>1.000000</td>\n",
              "    </tr>\n",
              "  </tbody>\n",
              "</table>\n",
              "</div>\n",
              "    <div class=\"colab-df-buttons\">\n",
              "\n",
              "  <div class=\"colab-df-container\">\n",
              "    <button class=\"colab-df-convert\" onclick=\"convertToInteractive('df-8389ca51-fe77-4afa-9fc6-0dbc63690489')\"\n",
              "            title=\"Convert this dataframe to an interactive table.\"\n",
              "            style=\"display:none;\">\n",
              "\n",
              "  <svg xmlns=\"http://www.w3.org/2000/svg\" height=\"24px\" viewBox=\"0 -960 960 960\">\n",
              "    <path d=\"M120-120v-720h720v720H120Zm60-500h600v-160H180v160Zm220 220h160v-160H400v160Zm0 220h160v-160H400v160ZM180-400h160v-160H180v160Zm440 0h160v-160H620v160ZM180-180h160v-160H180v160Zm440 0h160v-160H620v160Z\"/>\n",
              "  </svg>\n",
              "    </button>\n",
              "\n",
              "  <style>\n",
              "    .colab-df-container {\n",
              "      display:flex;\n",
              "      gap: 12px;\n",
              "    }\n",
              "\n",
              "    .colab-df-convert {\n",
              "      background-color: #E8F0FE;\n",
              "      border: none;\n",
              "      border-radius: 50%;\n",
              "      cursor: pointer;\n",
              "      display: none;\n",
              "      fill: #1967D2;\n",
              "      height: 32px;\n",
              "      padding: 0 0 0 0;\n",
              "      width: 32px;\n",
              "    }\n",
              "\n",
              "    .colab-df-convert:hover {\n",
              "      background-color: #E2EBFA;\n",
              "      box-shadow: 0px 1px 2px rgba(60, 64, 67, 0.3), 0px 1px 3px 1px rgba(60, 64, 67, 0.15);\n",
              "      fill: #174EA6;\n",
              "    }\n",
              "\n",
              "    .colab-df-buttons div {\n",
              "      margin-bottom: 4px;\n",
              "    }\n",
              "\n",
              "    [theme=dark] .colab-df-convert {\n",
              "      background-color: #3B4455;\n",
              "      fill: #D2E3FC;\n",
              "    }\n",
              "\n",
              "    [theme=dark] .colab-df-convert:hover {\n",
              "      background-color: #434B5C;\n",
              "      box-shadow: 0px 1px 3px 1px rgba(0, 0, 0, 0.15);\n",
              "      filter: drop-shadow(0px 1px 2px rgba(0, 0, 0, 0.3));\n",
              "      fill: #FFFFFF;\n",
              "    }\n",
              "  </style>\n",
              "\n",
              "    <script>\n",
              "      const buttonEl =\n",
              "        document.querySelector('#df-8389ca51-fe77-4afa-9fc6-0dbc63690489 button.colab-df-convert');\n",
              "      buttonEl.style.display =\n",
              "        google.colab.kernel.accessAllowed ? 'block' : 'none';\n",
              "\n",
              "      async function convertToInteractive(key) {\n",
              "        const element = document.querySelector('#df-8389ca51-fe77-4afa-9fc6-0dbc63690489');\n",
              "        const dataTable =\n",
              "          await google.colab.kernel.invokeFunction('convertToInteractive',\n",
              "                                                    [key], {});\n",
              "        if (!dataTable) return;\n",
              "\n",
              "        const docLinkHtml = 'Like what you see? Visit the ' +\n",
              "          '<a target=\"_blank\" href=https://colab.research.google.com/notebooks/data_table.ipynb>data table notebook</a>'\n",
              "          + ' to learn more about interactive tables.';\n",
              "        element.innerHTML = '';\n",
              "        dataTable['output_type'] = 'display_data';\n",
              "        await google.colab.output.renderOutput(dataTable, element);\n",
              "        const docLink = document.createElement('div');\n",
              "        docLink.innerHTML = docLinkHtml;\n",
              "        element.appendChild(docLink);\n",
              "      }\n",
              "    </script>\n",
              "  </div>\n",
              "\n",
              "\n",
              "<div id=\"df-586cd262-c259-4a40-9404-b33777afb269\">\n",
              "  <button class=\"colab-df-quickchart\" onclick=\"quickchart('df-586cd262-c259-4a40-9404-b33777afb269')\"\n",
              "            title=\"Suggest charts\"\n",
              "            style=\"display:none;\">\n",
              "\n",
              "<svg xmlns=\"http://www.w3.org/2000/svg\" height=\"24px\"viewBox=\"0 0 24 24\"\n",
              "     width=\"24px\">\n",
              "    <g>\n",
              "        <path d=\"M19 3H5c-1.1 0-2 .9-2 2v14c0 1.1.9 2 2 2h14c1.1 0 2-.9 2-2V5c0-1.1-.9-2-2-2zM9 17H7v-7h2v7zm4 0h-2V7h2v10zm4 0h-2v-4h2v4z\"/>\n",
              "    </g>\n",
              "</svg>\n",
              "  </button>\n",
              "\n",
              "<style>\n",
              "  .colab-df-quickchart {\n",
              "      --bg-color: #E8F0FE;\n",
              "      --fill-color: #1967D2;\n",
              "      --hover-bg-color: #E2EBFA;\n",
              "      --hover-fill-color: #174EA6;\n",
              "      --disabled-fill-color: #AAA;\n",
              "      --disabled-bg-color: #DDD;\n",
              "  }\n",
              "\n",
              "  [theme=dark] .colab-df-quickchart {\n",
              "      --bg-color: #3B4455;\n",
              "      --fill-color: #D2E3FC;\n",
              "      --hover-bg-color: #434B5C;\n",
              "      --hover-fill-color: #FFFFFF;\n",
              "      --disabled-bg-color: #3B4455;\n",
              "      --disabled-fill-color: #666;\n",
              "  }\n",
              "\n",
              "  .colab-df-quickchart {\n",
              "    background-color: var(--bg-color);\n",
              "    border: none;\n",
              "    border-radius: 50%;\n",
              "    cursor: pointer;\n",
              "    display: none;\n",
              "    fill: var(--fill-color);\n",
              "    height: 32px;\n",
              "    padding: 0;\n",
              "    width: 32px;\n",
              "  }\n",
              "\n",
              "  .colab-df-quickchart:hover {\n",
              "    background-color: var(--hover-bg-color);\n",
              "    box-shadow: 0 1px 2px rgba(60, 64, 67, 0.3), 0 1px 3px 1px rgba(60, 64, 67, 0.15);\n",
              "    fill: var(--button-hover-fill-color);\n",
              "  }\n",
              "\n",
              "  .colab-df-quickchart-complete:disabled,\n",
              "  .colab-df-quickchart-complete:disabled:hover {\n",
              "    background-color: var(--disabled-bg-color);\n",
              "    fill: var(--disabled-fill-color);\n",
              "    box-shadow: none;\n",
              "  }\n",
              "\n",
              "  .colab-df-spinner {\n",
              "    border: 2px solid var(--fill-color);\n",
              "    border-color: transparent;\n",
              "    border-bottom-color: var(--fill-color);\n",
              "    animation:\n",
              "      spin 1s steps(1) infinite;\n",
              "  }\n",
              "\n",
              "  @keyframes spin {\n",
              "    0% {\n",
              "      border-color: transparent;\n",
              "      border-bottom-color: var(--fill-color);\n",
              "      border-left-color: var(--fill-color);\n",
              "    }\n",
              "    20% {\n",
              "      border-color: transparent;\n",
              "      border-left-color: var(--fill-color);\n",
              "      border-top-color: var(--fill-color);\n",
              "    }\n",
              "    30% {\n",
              "      border-color: transparent;\n",
              "      border-left-color: var(--fill-color);\n",
              "      border-top-color: var(--fill-color);\n",
              "      border-right-color: var(--fill-color);\n",
              "    }\n",
              "    40% {\n",
              "      border-color: transparent;\n",
              "      border-right-color: var(--fill-color);\n",
              "      border-top-color: var(--fill-color);\n",
              "    }\n",
              "    60% {\n",
              "      border-color: transparent;\n",
              "      border-right-color: var(--fill-color);\n",
              "    }\n",
              "    80% {\n",
              "      border-color: transparent;\n",
              "      border-right-color: var(--fill-color);\n",
              "      border-bottom-color: var(--fill-color);\n",
              "    }\n",
              "    90% {\n",
              "      border-color: transparent;\n",
              "      border-bottom-color: var(--fill-color);\n",
              "    }\n",
              "  }\n",
              "</style>\n",
              "\n",
              "  <script>\n",
              "    async function quickchart(key) {\n",
              "      const quickchartButtonEl =\n",
              "        document.querySelector('#' + key + ' button');\n",
              "      quickchartButtonEl.disabled = true;  // To prevent multiple clicks.\n",
              "      quickchartButtonEl.classList.add('colab-df-spinner');\n",
              "      try {\n",
              "        const charts = await google.colab.kernel.invokeFunction(\n",
              "            'suggestCharts', [key], {});\n",
              "      } catch (error) {\n",
              "        console.error('Error during call to suggestCharts:', error);\n",
              "      }\n",
              "      quickchartButtonEl.classList.remove('colab-df-spinner');\n",
              "      quickchartButtonEl.classList.add('colab-df-quickchart-complete');\n",
              "    }\n",
              "    (() => {\n",
              "      let quickchartButtonEl =\n",
              "        document.querySelector('#df-586cd262-c259-4a40-9404-b33777afb269 button');\n",
              "      quickchartButtonEl.style.display =\n",
              "        google.colab.kernel.accessAllowed ? 'block' : 'none';\n",
              "    })();\n",
              "  </script>\n",
              "</div>\n",
              "\n",
              "    </div>\n",
              "  </div>\n"
            ],
            "application/vnd.google.colaboratory.intrinsic+json": {
              "type": "dataframe",
              "summary": "{\n  \"name\": \"data\",\n  \"rows\": 8,\n  \"fields\": [\n    {\n      \"column\": \"RowNumber\",\n      \"properties\": {\n        \"dtype\": \"number\",\n        \"std\": 3604.2114426049734,\n        \"min\": 1.0,\n        \"max\": 10002.0,\n        \"num_unique_values\": 8,\n        \"samples\": [\n          4999.501799640072,\n          4999.5,\n          10002.0\n        ],\n        \"semantic_type\": \"\",\n        \"description\": \"\"\n      }\n    },\n    {\n      \"column\": \"CustomerId\",\n      \"properties\": {\n        \"dtype\": \"number\",\n        \"std\": 7244869.652791054,\n        \"min\": 10002.0,\n        \"max\": 15815690.0,\n        \"num_unique_values\": 8,\n        \"samples\": [\n          15690930.24015197,\n          15690732.0,\n          10002.0\n        ],\n        \"semantic_type\": \"\",\n        \"description\": \"\"\n      }\n    },\n    {\n      \"column\": \"CreditScore\",\n      \"properties\": {\n        \"dtype\": \"number\",\n        \"std\": 3347.4395524170736,\n        \"min\": 96.64476466009425,\n        \"max\": 10002.0,\n        \"num_unique_values\": 8,\n        \"samples\": [\n          650.5221955608878,\n          652.0,\n          10002.0\n        ],\n        \"semantic_type\": \"\",\n        \"description\": \"\"\n      }\n    },\n    {\n      \"column\": \"Age\",\n      \"properties\": {\n        \"dtype\": \"number\",\n        \"std\": 3520.7983827336793,\n        \"min\": 10.488788065873182,\n        \"max\": 9997.0,\n        \"num_unique_values\": 8,\n        \"samples\": [\n          38.92297689306792,\n          37.0,\n          9997.0\n        ],\n        \"semantic_type\": \"\",\n        \"description\": \"\"\n      }\n    },\n    {\n      \"column\": \"Tenure\",\n      \"properties\": {\n        \"dtype\": \"number\",\n        \"std\": 3534.5803382670924,\n        \"min\": 0.0,\n        \"max\": 10002.0,\n        \"num_unique_values\": 8,\n        \"samples\": [\n          5.012297540491901,\n          5.0,\n          10002.0\n        ],\n        \"semantic_type\": \"\",\n        \"description\": \"\"\n      }\n    },\n    {\n      \"column\": \"Balance\",\n      \"properties\": {\n        \"dtype\": \"number\",\n        \"std\": 84316.2360305283,\n        \"min\": 0.0,\n        \"max\": 250898.09,\n        \"num_unique_values\": 7,\n        \"samples\": [\n          10002.0,\n          76484.90524795039,\n          127647.84\n        ],\n        \"semantic_type\": \"\",\n        \"description\": \"\"\n      }\n    },\n    {\n      \"column\": \"NumOfProducts\",\n      \"properties\": {\n        \"dtype\": \"number\",\n        \"std\": 3534.6265403957586,\n        \"min\": 0.6271747106650164,\n        \"max\": 10002.0,\n        \"num_unique_values\": 6,\n        \"samples\": [\n          10002.0,\n          1.5325934813037392,\n          25.0\n        ],\n        \"semantic_type\": \"\",\n        \"description\": \"\"\n      }\n    },\n    {\n      \"column\": \"HasCrCard\",\n      \"properties\": {\n        \"dtype\": \"number\",\n        \"std\": 3536.0308593013174,\n        \"min\": 0.0,\n        \"max\": 10002.0,\n        \"num_unique_values\": 5,\n        \"samples\": [\n          0.7054589082183563,\n          1.0,\n          0.45585898435787314\n        ],\n        \"semantic_type\": \"\",\n        \"description\": \"\"\n      }\n    },\n    {\n      \"column\": \"IsActiveMember\",\n      \"properties\": {\n        \"dtype\": \"number\",\n        \"std\": 3536.0382495374884,\n        \"min\": 0.0,\n        \"max\": 10002.0,\n        \"num_unique_values\": 5,\n        \"samples\": [\n          0.5151969606078785,\n          1.0,\n          0.4997939843536408\n        ],\n        \"semantic_type\": \"\",\n        \"description\": \"\"\n      }\n    },\n    {\n      \"column\": \"EstimatedSalary\",\n      \"properties\": {\n        \"dtype\": \"number\",\n        \"std\": 68210.14251775458,\n        \"min\": 11.58,\n        \"max\": 199992.48,\n        \"num_unique_values\": 8,\n        \"samples\": [\n          100086.79013697262,\n          100193.915,\n          10002.0\n        ],\n        \"semantic_type\": \"\",\n        \"description\": \"\"\n      }\n    },\n    {\n      \"column\": \"Exited\",\n      \"properties\": {\n        \"dtype\": \"number\",\n        \"std\": 3536.159885471515,\n        \"min\": 0.0,\n        \"max\": 10002.0,\n        \"num_unique_values\": 5,\n        \"samples\": [\n          0.20375924815036991,\n          1.0,\n          0.4028121639958563\n        ],\n        \"semantic_type\": \"\",\n        \"description\": \"\"\n      }\n    }\n  ]\n}"
            }
          },
          "metadata": {},
          "execution_count": 4
        }
      ]
    },
    {
      "cell_type": "code",
      "source": [
        "data.isnull().sum()"
      ],
      "metadata": {
        "colab": {
          "base_uri": "https://localhost:8080/",
          "height": 523
        },
        "id": "ZZe4o40zKXtR",
        "outputId": "6460d27e-1e89-4ce4-e2d1-395a7fbb095c"
      },
      "execution_count": null,
      "outputs": [
        {
          "output_type": "execute_result",
          "data": {
            "text/plain": [
              "RowNumber          0\n",
              "CustomerId         0\n",
              "Surname            5\n",
              "CreditScore        0\n",
              "Geography          0\n",
              "Gender             1\n",
              "Age                5\n",
              "Tenure             0\n",
              "Balance            0\n",
              "NumOfProducts      0\n",
              "HasCrCard          0\n",
              "IsActiveMember     0\n",
              "EstimatedSalary    0\n",
              "Exited             0\n",
              "dtype: int64"
            ],
            "text/html": [
              "<div>\n",
              "<style scoped>\n",
              "    .dataframe tbody tr th:only-of-type {\n",
              "        vertical-align: middle;\n",
              "    }\n",
              "\n",
              "    .dataframe tbody tr th {\n",
              "        vertical-align: top;\n",
              "    }\n",
              "\n",
              "    .dataframe thead th {\n",
              "        text-align: right;\n",
              "    }\n",
              "</style>\n",
              "<table border=\"1\" class=\"dataframe\">\n",
              "  <thead>\n",
              "    <tr style=\"text-align: right;\">\n",
              "      <th></th>\n",
              "      <th>0</th>\n",
              "    </tr>\n",
              "  </thead>\n",
              "  <tbody>\n",
              "    <tr>\n",
              "      <th>RowNumber</th>\n",
              "      <td>0</td>\n",
              "    </tr>\n",
              "    <tr>\n",
              "      <th>CustomerId</th>\n",
              "      <td>0</td>\n",
              "    </tr>\n",
              "    <tr>\n",
              "      <th>Surname</th>\n",
              "      <td>5</td>\n",
              "    </tr>\n",
              "    <tr>\n",
              "      <th>CreditScore</th>\n",
              "      <td>0</td>\n",
              "    </tr>\n",
              "    <tr>\n",
              "      <th>Geography</th>\n",
              "      <td>0</td>\n",
              "    </tr>\n",
              "    <tr>\n",
              "      <th>Gender</th>\n",
              "      <td>1</td>\n",
              "    </tr>\n",
              "    <tr>\n",
              "      <th>Age</th>\n",
              "      <td>5</td>\n",
              "    </tr>\n",
              "    <tr>\n",
              "      <th>Tenure</th>\n",
              "      <td>0</td>\n",
              "    </tr>\n",
              "    <tr>\n",
              "      <th>Balance</th>\n",
              "      <td>0</td>\n",
              "    </tr>\n",
              "    <tr>\n",
              "      <th>NumOfProducts</th>\n",
              "      <td>0</td>\n",
              "    </tr>\n",
              "    <tr>\n",
              "      <th>HasCrCard</th>\n",
              "      <td>0</td>\n",
              "    </tr>\n",
              "    <tr>\n",
              "      <th>IsActiveMember</th>\n",
              "      <td>0</td>\n",
              "    </tr>\n",
              "    <tr>\n",
              "      <th>EstimatedSalary</th>\n",
              "      <td>0</td>\n",
              "    </tr>\n",
              "    <tr>\n",
              "      <th>Exited</th>\n",
              "      <td>0</td>\n",
              "    </tr>\n",
              "  </tbody>\n",
              "</table>\n",
              "</div><br><label><b>dtype:</b> int64</label>"
            ]
          },
          "metadata": {},
          "execution_count": 5
        }
      ]
    },
    {
      "cell_type": "markdown",
      "source": [
        "##Preprocesamiento de datos\n",
        "Codificar variables categóricas: Convertimos Geography y Gender a variables numéricas.\n",
        "\n",
        "Se seleccionan 10 características (X) que podrían ser útiles para predecir la variable objetivo Exited (si el cliente abandonó el servicio o no).\n"
      ],
      "metadata": {
        "id": "rgyfkvwQ2hon"
      }
    },
    {
      "cell_type": "code",
      "source": [
        "# Manejar valores faltantes\n",
        "data = data.dropna()\n",
        "\n",
        "# Codificar variables categóricas\n",
        "le_geo = LabelEncoder()\n",
        "data.loc[:, 'Geography'] = le_geo.fit_transform(data['Geography'])\n",
        "\n",
        "le_gender = LabelEncoder()\n",
        "data.loc[:, 'Gender'] = le_gender.fit_transform(data['Gender'])\n",
        "\n",
        "# Seleccionar características relevantes\n",
        "X = data[['CreditScore', 'Geography', 'Gender', 'Age', 'Tenure', 'Balance',\n",
        "          'NumOfProducts', 'HasCrCard', 'IsActiveMember', 'EstimatedSalary']]\n",
        "\n",
        "# Seleccionar la variable objetivo\n",
        "y = data['Exited']\n"
      ],
      "metadata": {
        "id": "SAkPUR3o2h6M"
      },
      "execution_count": null,
      "outputs": []
    },
    {
      "cell_type": "markdown",
      "source": [
        "##Verificar balanceo\n",
        "Para verificar si las clases están balanceadas en un conjunto de datos de clasificación, puedes realizar varias comprobaciones. En este caso, como estás trabajando con la variable objetivo y, que representa si el cliente \"Exited\" (1) o \"No Exited\" (0), la idea es ver la distribución de las clases en los datos."
      ],
      "metadata": {
        "id": "53BlBjXLQrKk"
      }
    },
    {
      "cell_type": "code",
      "source": [
        "# Verificar la distribución de clases en el conjunto de entrenamiento\n",
        "print(\"Distribución de clases en el conjunto de entrenamiento:\")\n",
        "print(y.value_counts(normalize=True))"
      ],
      "metadata": {
        "colab": {
          "base_uri": "https://localhost:8080/"
        },
        "id": "lnQk6yMIQhNn",
        "outputId": "01826fd6-a920-4eef-aed2-f161ee7be6d3"
      },
      "execution_count": null,
      "outputs": [
        {
          "output_type": "stream",
          "name": "stdout",
          "text": [
            "Distribución de clases en el conjunto de entrenamiento:\n",
            "Exited\n",
            "0    0.796217\n",
            "1    0.203783\n",
            "Name: proportion, dtype: float64\n"
          ]
        }
      ]
    },
    {
      "cell_type": "markdown",
      "source": [
        "* Clase 0 (\"No Exited\"): Representa el 79.62% de las instancias en el conjunto de entrenamiento.\n",
        "\n",
        "* Clase 1 (\"Exited\"): Representa el 20.38% de las instancias en el conjunto de entrenamiento."
      ],
      "metadata": {
        "id": "SR_iGUv5RVes"
      }
    },
    {
      "cell_type": "code",
      "source": [
        "# Dividir los datos en conjunto de entrenamiento y prueba\n",
        "X_train, X_test, y_train, y_test = train_test_split(X, y, test_size=0.3, random_state=42,stratify=y)"
      ],
      "metadata": {
        "id": "cpR7_Xcu-zGA"
      },
      "execution_count": null,
      "outputs": []
    },
    {
      "cell_type": "markdown",
      "source": [
        "##Estandarizar las características\n",
        "\n"
      ],
      "metadata": {
        "id": "O1kZYbyG4YBY"
      }
    },
    {
      "cell_type": "code",
      "source": [
        "# Estandarización de los datos\n",
        "scaler = StandardScaler()\n",
        "# Estandarización de los datos de prueba (usando el scaler ajustado en el conjunto de entrenamiento)\n",
        "X_train_scaled = scaler.fit_transform(X_train)\n",
        "X_test_scaled = scaler.transform(X_test)\n"
      ],
      "metadata": {
        "id": "QBaQ4CLN4Z4R"
      },
      "execution_count": null,
      "outputs": []
    },
    {
      "cell_type": "markdown",
      "source": [
        "##Balanceo"
      ],
      "metadata": {
        "id": "EVkd8PsvSS0m"
      }
    },
    {
      "cell_type": "code",
      "source": [
        "import warnings\n",
        "warnings.filterwarnings(\"ignore\", category=FutureWarning)\n",
        "\n",
        "# Aplicar SMOTE después de hacer el split, solo en los datos de entrenamiento\n",
        "from imblearn.over_sampling import SMOTE\n",
        "\n",
        "# Crear una instancia de SMOTE\n",
        "smote = SMOTE(random_state=42)\n",
        "\n",
        "# Ajustar SMOTE a los datos de entrenamiento (X_train_scaled y y_train)\n",
        "X_train_smote, y_train_smote = smote.fit_resample(X_train_scaled, y_train)\n",
        "\n",
        "# Verificar la distribución de clases después de aplicar SMOTE\n",
        "print(\"Distribución de clases en el conjunto de entrenamiento después de SMOTE:\")\n",
        "print(pd.Series(y_train_smote).value_counts(normalize=True))"
      ],
      "metadata": {
        "colab": {
          "base_uri": "https://localhost:8080/"
        },
        "id": "__H_4-8CSPgq",
        "outputId": "f16080eb-997a-4b0f-98c5-67d86d250e67"
      },
      "execution_count": null,
      "outputs": [
        {
          "output_type": "stream",
          "name": "stdout",
          "text": [
            "Distribución de clases en el conjunto de entrenamiento después de SMOTE:\n",
            "Exited\n",
            "0    0.5\n",
            "1    0.5\n",
            "Name: proportion, dtype: float64\n"
          ]
        }
      ]
    },
    {
      "cell_type": "markdown",
      "source": [
        "# Aplicar el Análisis Discriminante Lineal (LDA)"
      ],
      "metadata": {
        "id": "4-6-MkOm4eco"
      }
    },
    {
      "cell_type": "code",
      "source": [
        "# Crear el modelo LDA\n",
        "lda = LinearDiscriminantAnalysis()\n",
        "\n",
        "# Entrenar el modelo con los datos balanceados\n",
        "lda.fit(X_train_smote, y_train_smote)\n",
        "\n",
        "# Realizar predicciones con el conjunto de prueba\n",
        "y_pred_smote = lda.predict(X_test_scaled)"
      ],
      "metadata": {
        "id": "PYphNx8s4jB-"
      },
      "execution_count": null,
      "outputs": []
    },
    {
      "cell_type": "markdown",
      "source": [
        "## Evaluar el rendimiento del modelo\n"
      ],
      "metadata": {
        "id": "vYnBUfpz4tO5"
      }
    },
    {
      "cell_type": "code",
      "source": [
        "# Matriz de confusión\n",
        "conf_matrix_smote = confusion_matrix(y_test, y_pred_smote)\n",
        "sns.heatmap(conf_matrix_smote, annot=True, fmt=\"d\", cmap=\"Blues\", xticklabels=['No Exited', 'Exited'], yticklabels=['No Exited', 'Exited'])\n",
        "plt.title(\"Matriz de Confusión con SMOTE\")\n",
        "plt.xlabel(\"Predicción\")\n",
        "plt.ylabel(\"Real\")\n",
        "plt.show()"
      ],
      "metadata": {
        "colab": {
          "base_uri": "https://localhost:8080/",
          "height": 472
        },
        "id": "nMF8rOCI4wMu",
        "outputId": "4ad89453-e5a5-4f58-ddc8-b0ee226d74d4"
      },
      "execution_count": null,
      "outputs": [
        {
          "output_type": "display_data",
          "data": {
            "text/plain": [
              "<Figure size 640x480 with 2 Axes>"
            ],
            "image/png": "[encoded data removed]"
          },
          "metadata": {}
        }
      ]
    },
    {
      "cell_type": "code",
      "source": [
        "# Reporte de clasificación con SMOTE\n",
        "print(classification_report(y_test, y_pred_smote))"
      ],
      "metadata": {
        "colab": {
          "base_uri": "https://localhost:8080/"
        },
        "id": "Z-pfMgUT_WxE",
        "outputId": "608ae13c-386b-4af2-fc80-4b85814aa19f"
      },
      "execution_count": null,
      "outputs": [
        {
          "output_type": "stream",
          "name": "stdout",
          "text": [
            "              precision    recall  f1-score   support\n",
            "\n",
            "           0       0.89      0.70      0.79      2387\n",
            "           1       0.36      0.67      0.47       611\n",
            "\n",
            "    accuracy                           0.70      2998\n",
            "   macro avg       0.63      0.68      0.63      2998\n",
            "weighted avg       0.78      0.70      0.72      2998\n",
            "\n"
          ]
        }
      ]
    },
    {
      "cell_type": "markdown",
      "source": [
        "## Análisis y visualización de las componentes LDA"
      ],
      "metadata": {
        "id": "6z3Z88ma44DC"
      }
    },
    {
      "cell_type": "code",
      "source": [
        "# Transformar los datos balanceados de entrenamiento en el espacio LDA\n",
        "X_train_lda = lda.transform(X_train_smote)\n",
        "\n",
        "# Transformar los datos de prueba en el espacio LDA utilizando el modelo entrenado\n",
        "X_test_lda = lda.transform(X_test_scaled)\n",
        "\n",
        "# Visualización en el espacio LDA (solo para la primera componente)\n",
        "plt.scatter(X_train_lda[y_train_smote == 0], np.zeros_like(X_train_lda[y_train_smote == 0]), label='No Exited', alpha=0.7)\n",
        "plt.scatter(X_train_lda[y_train_smote == 1], np.zeros_like(X_train_lda[y_train_smote == 1]), label='Exited', alpha=0.7)\n",
        "plt.title(\"Proyección LDA de los Datos (Balanceados con SMOTE)\")\n",
        "plt.xlabel(\"Primera Componente Discriminante (PC1)\")  # Título del eje X\n",
        "plt.ylabel(\"Clase (fijada en 0)\")  # Título del eje Y\n",
        "plt.legend()\n",
        "plt.show()\n",
        "\n"
      ],
      "metadata": {
        "colab": {
          "base_uri": "https://localhost:8080/",
          "height": 472
        },
        "id": "jhd6i9B8498y",
        "outputId": "b03add7b-6f5e-4609-973e-45e57d1108f5"
      },
      "execution_count": null,
      "outputs": [
        {
          "output_type": "display_data",
          "data": {
            "text/plain": [
              "<Figure size 640x480 with 1 Axes>"
            ],
            "image/png": "[encoded data removed]"
          },
          "metadata": {}
        }
      ]
    },
    {
      "cell_type": "markdown",
      "source": [
        "Explicación del gráfico antnerior\n",
        "\n",
        "Muestra la distribución de las observaciones en el espacio de la primera componente discriminante (PC1). Se separan las clases 𝑌=0 (No Exited) y 𝑌=1\n",
        "(Exited) en una dimensión para analizar si el modelo logra distinguirlas de manera clara.\n",
        "\n",
        "𝑋: Los valores proyectados de las observaciones en la primera componente discriminante.\n",
        "\n",
        "𝑌: Las etiquetas de clase (y_train), que indican a cuál grupo pertenece cada observación:\n",
        "\n",
        "𝑌=0: Observaciones pertenecientes a la clase \"No Exited\".\n",
        "\n",
        "𝑌=1: Observaciones pertenecientes a la clase \"Exited\".\n",
        "\n",
        "np.zeros_like(X_train_lda[y_train == 0]) y np.zeros_like(X_train_lda[y_train == 0]) fija la coordenada 𝑌 en cero, creando una visualización en una dimensión donde las clases están representadas como puntos sobre una línea horizontal.\n",
        "\n",
        "\n",
        "**Separación de las clases:**\n",
        "\n",
        "\n",
        "Si las clases están bien separadas (los puntos rojos y azules no se superponen mucho), significa que LDA ha encontrado una buena dirección discriminante.\n",
        "Si hay solapamiento significativo, podría indicar que las características seleccionadas no discriminan bien entre las clases.\n",
        "\n",
        "**Proyección unidimensional:**\n",
        "\n",
        "Este gráfico usa solo la primera componente discriminante (PC1). En problemas más complejos, se podrían usar múltiples componentes para una visualización más rica.\n"
      ],
      "metadata": {
        "id": "aL0CByM0LP09"
      }
    },
    {
      "cell_type": "markdown",
      "source": [
        "## Análisis de las probabilidades posteriores\n",
        "\n",
        "Calcula y muestra las probabilidades posteriores de pertenencia a cada clase para las primeras 5 observaciones del conjunto de prueba de X"
      ],
      "metadata": {
        "id": "lrrG6Lfx5EUK"
      }
    },
    {
      "cell_type": "code",
      "source": [
        "# Obtener probabilidades de pertenecer a cada clase\n",
        "y_probs_smote = lda.predict_proba(X_test_scaled)\n",
        "print(\"Probabilidades posteriores (primeras 5 filas):\\n\", y_probs_smote[:5])"
      ],
      "metadata": {
        "colab": {
          "base_uri": "https://localhost:8080/"
        },
        "id": "n_k8ulWo5IrA",
        "outputId": "f8a7d7f1-079a-4384-a1a3-8f7a5a2eabe9"
      },
      "execution_count": null,
      "outputs": [
        {
          "output_type": "stream",
          "name": "stdout",
          "text": [
            "Probabilidades posteriores (primeras 5 filas):\n",
            " [[0.66038858 0.33961142]\n",
            " [0.49660046 0.50339954]\n",
            " [0.65352145 0.34647855]\n",
            " [0.75812305 0.24187695]\n",
            " [0.36379026 0.63620974]]\n"
          ]
        }
      ]
    },
    {
      "cell_type": "markdown",
      "source": [
        "* Fila 1: [0.66038858 0.33961142]\n",
        "\n",
        "Este punto de datos tiene una probabilidad de 0.0.66038858 de pertenecer a la clase 0 (\"No Abandonó\") y una probabilidad de 0.33961142 de pertenecer a la clase 1 (\"Abandonó\"). El modelo probablemente predeciría que este cliente \"No Abandonó\", ya que esa clase tiene la probabilidad más alta.\n",
        "\n",
        "* Fila 2: [0.49660046 0.50339954]\n",
        "\n",
        "De manera similar a la primera fila, este punto de datos tiene una mayor probabilidad de pertenecer a la clase 0 (\"No Abandonó\").\n",
        "\n",
        "y asi sucesivamente se analiza cada probabilidad"
      ],
      "metadata": {
        "id": "bY09Da3fNcRX"
      }
    },
    {
      "cell_type": "code",
      "source": [
        "lda.coef_"
      ],
      "metadata": {
        "colab": {
          "base_uri": "https://localhost:8080/"
        },
        "id": "ng6TkPBI6McN",
        "outputId": "cc263b33-1355-4470-c3b2-69ef61a36b48"
      },
      "execution_count": null,
      "outputs": [
        {
          "output_type": "execute_result",
          "data": {
            "text/plain": [
              "array([[-0.07361794,  0.05404803, -0.28880854,  0.89838655, -0.03705426,\n",
              "         0.3719799 , -0.09707552, -0.01324074, -0.49740898,  0.0108298 ]])"
            ]
          },
          "metadata": {},
          "execution_count": 16
        }
      ]
    },
    {
      "cell_type": "markdown",
      "source": [
        "##  Interpretación de los resultados\n",
        "\n",
        "    Coeficiente de CreditScore: -0.07361794\n",
        "        Un coeficiente negativo sugiere que, a medida que CreditScore aumenta, la probabilidad de que un cliente pertenezca a la clase \"Exited\" (si esa es la clase positiva) disminuye.\n",
        "\n",
        "    Coeficiente de Geography: 0.05404803\n",
        "        Un coeficiente positivo indica que un aumento en la variable Geography favorece la clase \"Exited\".\n",
        "\n",
        "    Coeficiente de Age: 0.89838655\n",
        "        Este valor es relativamente alto, lo que sugiere que la edad es una característica importante en la predicción. Un aumento en la edad parece favorecer la clase \"Exited\".\n",
        "\n",
        "    Coeficiente de Balance: 0.3719799\n",
        "        Un valor positivo para Balance sugiere que un mayor balance en la cuenta de un cliente está asociado con una mayor probabilidad de que no haya abandonado el servicio (en este caso, la clase \"No Exited\").\n",
        "\n",
        "Los coeficientes son utilizados por el modelo LDA para calcular una función lineal que proyecta los datos en el espacio LDA. Los clientes que tengan una puntuación más alta en esta proyección se clasifican en una clase, mientras que los que tengan una puntuación más baja se clasifican en la otra clase.\n",
        "\n",
        "\n",
        "En la predicción, LDA calcula un valor linealmente ponderado de las características (usando estos coeficientes) y decide la clase según la relación entre las clases y las características"
      ],
      "metadata": {
        "id": "FkVT7arS5PsA"
      }
    },
    {
      "cell_type": "code",
      "source": [
        "# Obtener los coeficientes (pesos de las características)\n",
        "# Flatten para obtener una lista de coeficientes\n",
        "feature_weights = pd.DataFrame(\n",
        "    lda.coef_.flatten(),  # Aplanamos la matriz para obtener un arreglo unidimensional\n",
        "    index=X.columns,  # Los nombres de las características\n",
        "    columns=[\"Peso\"]\n",
        ").sort_values(by=\"Peso\", ascending=False)\n",
        "\n",
        "print(\"Pesos de las características:\\n\", feature_weights)"
      ],
      "metadata": {
        "colab": {
          "base_uri": "https://localhost:8080/"
        },
        "id": "2o1DbP6t5Q5B",
        "outputId": "8d9ea6ea-ebed-4dd9-c4ca-b79ebf2185bb"
      },
      "execution_count": null,
      "outputs": [
        {
          "output_type": "stream",
          "name": "stdout",
          "text": [
            "Pesos de las características:\n",
            "                      Peso\n",
            "Age              0.898387\n",
            "Balance          0.371980\n",
            "Geography        0.054048\n",
            "EstimatedSalary  0.010830\n",
            "HasCrCard       -0.013241\n",
            "Tenure          -0.037054\n",
            "CreditScore     -0.073618\n",
            "NumOfProducts   -0.097076\n",
            "Gender          -0.288809\n",
            "IsActiveMember  -0.497409\n"
          ]
        }
      ]
    },
    {
      "cell_type": "code",
      "source": [
        "# Visualización de los coeficientes de LDA\n",
        "plt.figure(figsize=(10, 6))\n",
        "feature_weights['Peso'].plot(kind='barh', color='skyblue')\n",
        "plt.title(\"Importancia de las Características según LDA\")\n",
        "plt.xlabel(\"Peso\")\n",
        "plt.show()"
      ],
      "metadata": {
        "id": "hRqG1RQwmgoV",
        "outputId": "63f51f4d-a3c7-4855-88c9-14a13233dea9",
        "colab": {
          "base_uri": "https://localhost:8080/",
          "height": 565
        }
      },
      "execution_count": null,
      "outputs": [
        {
          "output_type": "display_data",
          "data": {
            "text/plain": [
              "<Figure size 1000x600 with 1 Axes>"
            ],
            "image/png": "[encoded data removed]"
          },
          "metadata": {}
        }
      ]
    },
    {
      "cell_type": "markdown",
      "source": [
        "**Ecuación de clasificación LDA**\n",
        "\n",
        "En LDA, se genera una combinación lineal de las características para cada clase. La ecuación general de LDA para clasificación binaria (dos clases):\n",
        "\n",
        "La ecuación de **Discriminante Lineal** en el Análisis Discriminante Lineal (LDA) es:\n",
        "\n",
        "$$\n",
        "\\text{Discriminante Lineal} = \\sum_{i=1}^{n} w_i x_i + b\n",
        "$$\n",
        "\n",
        "Donde:\n",
        "- $ w_i $ es el peso (coeficiente) de la característica $ x_i $,\n",
        "- $ x_i $ es el valor de la característica $ i $ (por ejemplo, la edad, el saldo, etc.),\n",
        "-$ b $ es el sesgo (intercepto) del modelo.\n",
        "\n",
        "En este caso, la ecuación para predecir si un cliente \"ha abandonado\" o \"no ha abandonado\" es:\n",
        "\n",
        "$$Discriminante Lineal=0.898387⋅Age+0.371980⋅Balance+0.054048⋅Geography+0.010830⋅EstimatedSalary-0.013241⋅HasCrCard-0.097076⋅NumOfProducts-0.037054⋅Tenure-0.073618⋅CreditScore-0.288809⋅Gender-0.497409⋅IsActiveMember$$\n",
        "\n",
        "La salida de esta ecuación se compara con un umbral para predecir la clase:\n",
        "\n",
        "    Si el valor calculado es mayor que un umbral (usualmente 0), se predice que el cliente \"ha abandonado\".\n",
        "    Si es menor que 0, se predice que el cliente \"no ha abandonado\".\n",
        "\n",
        "**Clasificación con la nueva matriz de componentes (LDA)**\n",
        "\n",
        "Una vez que hemos transformado las características a las nuevas componentes LDA, el modelo utiliza estas nuevas representaciones para hacer predicciones.\n",
        "\n",
        "**Transformar las características de entrada:** Después de entrenar el modelo LDA, puedes transformar las características de entrada usando lda.transform(X) para proyectarlas en el nuevo espacio discriminante. Esto reduce la dimensionalidad y genera un conjunto de nuevas \"combinaciones lineales\" de las características.\n",
        "\n"
      ],
      "metadata": {
        "id": "aAW3tqDmAvby"
      }
    },
    {
      "cell_type": "markdown",
      "source": [
        "\n",
        "**Clasificar en el nuevo espacio LDA:** Usamos el modelo entrenado para predecir las clases en este nuevo espacio. LDA asigna a cada observación una puntuación que luego se convierte en una clase mediante un umbral (generalmente 0)."
      ],
      "metadata": {
        "id": "g_RiAiDMCMwy"
      }
    },
    {
      "cell_type": "markdown",
      "source": [
        "##Realiza las predicciones sobre el espacio LDA transformado:"
      ],
      "metadata": {
        "id": "92eqYgszEoDE"
      }
    },
    {
      "cell_type": "code",
      "source": [
        "print(X_test_lda.shape)  # Verifica cuántas características tiene"
      ],
      "metadata": {
        "colab": {
          "base_uri": "https://localhost:8080/"
        },
        "id": "x5SDDgVQFOD8",
        "outputId": "9f86c5cf-478e-4d36-8fd6-1f24af1c14de"
      },
      "execution_count": null,
      "outputs": [
        {
          "output_type": "stream",
          "name": "stdout",
          "text": [
            "(2998, 1)\n"
          ]
        }
      ]
    },
    {
      "cell_type": "code",
      "source": [
        "y_pred_lda = lda.predict(X_test_scaled)  # Predicciones en el espacio LDA transformado\n",
        "y_pred_lda[:20]"
      ],
      "metadata": {
        "colab": {
          "base_uri": "https://localhost:8080/"
        },
        "id": "uOnnnd7lEkuM",
        "outputId": "a928b1b0-ca92-4118-b1e8-97b03abbb2d1"
      },
      "execution_count": null,
      "outputs": [
        {
          "output_type": "execute_result",
          "data": {
            "text/plain": [
              "array([0, 1, 0, 0, 1, 0, 1, 0, 1, 0, 1, 0, 0, 1, 1, 0, 1, 0, 0, 0])"
            ]
          },
          "metadata": {},
          "execution_count": 19
        }
      ]
    },
    {
      "cell_type": "code",
      "source": [
        "# Comparar las predicciones con las reales\n",
        "result_df_smote = pd.DataFrame({\n",
        "    'Real': y_test,\n",
        "    'Predicción': y_pred_smote\n",
        "})\n",
        "\n",
        "# Mostrar las primeras 10 filas del DataFrame resultante\n",
        "print(result_df_smote.head(10))\n"
      ],
      "metadata": {
        "colab": {
          "base_uri": "https://localhost:8080/"
        },
        "id": "uMiLN54_P-iv",
        "outputId": "fc8e63c4-61f1-4b42-8fd1-49f42f7fc9f1"
      },
      "execution_count": null,
      "outputs": [
        {
          "output_type": "stream",
          "name": "stdout",
          "text": [
            "      Real  Predicción\n",
            "8753     0           0\n",
            "5449     0           1\n",
            "2191     0           0\n",
            "4058     0           0\n",
            "7594     0           1\n",
            "3583     0           0\n",
            "7242     0           1\n",
            "4386     0           0\n",
            "3859     0           1\n",
            "2375     0           0\n"
          ]
        }
      ]
    },
    {
      "cell_type": "markdown",
      "source": [
        "##Realizar el modelo con los primeros componentes\n",
        "\n",
        "Todo el ejercicio anterior se hizo para interpretar cada uno de los parámteros y argumentos de LDA, pero para utilizar Linear Discriminant Analysis (LDA) con selección de los primeros componentes, y determinar el mejor número de componentes, puedes hacerlo de la siguiente manera:\n",
        "\n",
        "*    Determinar el número óptimo de componentes: Para elegir el mejor número de componentes en LDA, puedes probar diferentes valores de componentes y comparar el rendimiento del modelo. Una estrategia común es usar la validación cruzada o simplemente evaluar cómo las métricas del modelo cambian a medida que varías el número de componentes.\n",
        "\n",
        "*    Entrenar el modelo LDA con un número específico de componentes: Una vez que decidas el número de componentes, puedes proceder a entrenar el modelo LDA con esos componentes y evaluar su rendimiento.\n",
        "\n",
        "Aquí está el proceso paso a paso para ajustar y entrenar el modelo LDA usando la selección de componentes:\n",
        "Pasos:\n",
        "\n",
        "* Aplicar LDA para diferentes números de componentes: Entrenar un modelo LDA para diferentes valores de componentes y usar validación cruzada para elegir el mejor número de componentes.\n",
        "\n",
        "*     Evaluar el rendimiento: Usar el rendimiento (precisión, recall, F1-score, etc.) para determinar el número de componentes óptimos.\n",
        "\n",
        "*     Seleccionar el número de componentes y entrenar el modelo final."
      ],
      "metadata": {
        "id": "DA5FEZCfYVZA"
      }
    },
    {
      "cell_type": "markdown",
      "source": [
        "Dado que tenemos 10 características (features) y solo 2 clases (por ejemplo, \"Exited\" y \"No Exited\"), la regla para determinar el número máximo de componentes en el modelo LDA es:\n",
        "\n",
        "$ncomponentes≤min⁡(\\text{numero de caracterısticas},\\text{numero de clases}−1)$\n",
        "\n",
        "En en este ejercicio de 10 características y 2 clases, el cálculo sería:\n",
        "\n",
        "$ncomponentes≤min⁡(10,2−1)=min⁡(10,1)=1$\n",
        "\n",
        "Por qué solo 1 componente?\n",
        "\n",
        "LDA busca encontrar una combinación lineal de las características que maximice la separación entre las clases. Si solo hay dos clases, el modelo solo necesita una dimensión (un componente) para realizar la mejor separación posible. Aunque tengas más de 2 características (en este caso, 10), LDA solo utilizará una dimensión para separar las dos clases. Más de un componente no tiene sentido en este contexto, y se corre el riesgo de sobreajustar el modelo si se usan más componentes.\n",
        "\n",
        "Por lo tanto, para este escenario, n_components debe ser igual a 1.\n"
      ],
      "metadata": {
        "id": "UDIWXM9ndNV_"
      }
    },
    {
      "cell_type": "markdown",
      "source": [
        "Con cross valitationbuscamos evaluar cómo cambia el rendimiento del modelo LDA a medida que se ajusta el número de componentes (es decir, la reducción de la dimensionalidad) y determinar cuál es el número óptimo de componentes que da el mejor rendimiento.\n",
        "\n",
        "\n",
        "La validación cruzada ayuda a asegurar que el modelo no se sobreajuste a los datos de entrenamiento y proporciona una estimación más confiable del rendimiento del modelo en datos no vistos. En este caso, cross_val_score realiza la siguiente operación:\n",
        "\n",
        "* Divide los datos de entrenamiento en 5 particiones (folds).\n",
        "* Entrena el modelo LDA 5 veces, usando 4 folds para entrenar y 1 fold para validar.\n",
        "* Calcula la exactitud de cada una de las 5 iteraciones.\n",
        "* Devuelve un arreglo con los resultados de cada una de las 5 iteraciones.\n",
        "* La media de estas puntuaciones se calcula para tener una medida general del rendimiento del modelo en cada valor de n_components.\n",
        "\n",
        "En Scikit-learn, se pueden usar diferentes métodos de validación cruzada como KFold, StratifiedKFold, LeaveOneOut, o ShuffleSplit, dependiendo del problema y los datos.\n"
      ],
      "metadata": {
        "id": "tS-FvZ0-Hd40"
      }
    },
    {
      "cell_type": "code",
      "source": [
        "from sklearn.model_selection import cross_val_score\n",
        "\n",
        "\n",
        "# Evaluación de diferentes números de componentes\n",
        "scores = []\n",
        "components_range = range(1, min(X_train_smote.shape[1] + 1, len(np.unique(y_train_smote))))\n",
        "\n",
        "for n_components in components_range:\n",
        "    lda = LinearDiscriminantAnalysis(n_components=n_components)\n",
        "    score = cross_val_score(lda, X_train_smote, y_train_smote, cv=5, scoring='accuracy')\n",
        "    scores.append(np.mean(score))\n",
        "\n",
        "# Visualizar los resultados de validación cruzada\n",
        "plt.plot(components_range, scores, marker='o')\n",
        "plt.title(\"Validación cruzada: Exactitud vs Número de Componentes LDA\")\n",
        "plt.xlabel(\"Número de Componentes\")\n",
        "plt.ylabel(\"Exactitud Promedio\")\n",
        "plt.show()\n"
      ],
      "metadata": {
        "colab": {
          "base_uri": "https://localhost:8080/",
          "height": 473
        },
        "id": "uPzL8SdoYeMw",
        "outputId": "9bfa4161-7713-4dd9-fed4-1affd5c7a425"
      },
      "execution_count": null,
      "outputs": [
        {
          "output_type": "display_data",
          "data": {
            "text/plain": [
              "<Figure size 640x480 with 1 Axes>"
            ],
            "image/png": "[encoded data removed]"
          },
          "metadata": {}
        }
      ]
    },
    {
      "cell_type": "code",
      "source": [
        "# Determinar el número de componentes óptimos\n",
        "best_n_components = components_range[np.argmax(scores)]\n",
        "print(f\"El número óptimo de componentes es: {best_n_components}\")\n"
      ],
      "metadata": {
        "colab": {
          "base_uri": "https://localhost:8080/"
        },
        "id": "TYpEWr1UeAsa",
        "outputId": "1833b380-b5e6-4e02-9da9-2a7054ef69af"
      },
      "execution_count": null,
      "outputs": [
        {
          "output_type": "stream",
          "name": "stdout",
          "text": [
            "El número óptimo de componentes es: 1\n"
          ]
        }
      ]
    },
    {
      "cell_type": "markdown",
      "source": [
        "##Entrenar el modelo con un solo componente"
      ],
      "metadata": {
        "id": "5L-Vd6BMeD-X"
      }
    },
    {
      "cell_type": "code",
      "source": [
        "\n",
        "# Entrenar el modelo LDA con el número óptimo de componentes\n",
        "best_n_components = components_range[np.argmax(scores)]\n",
        "lda_optimal = LinearDiscriminantAnalysis(n_components=best_n_components)\n",
        "lda_optimal.fit(X_train_smote, y_train_smote)\n",
        "\n",
        "# Realizar predicciones\n",
        "y_pred = lda_optimal.predict(X_test_scaled)\n"
      ],
      "metadata": {
        "id": "AgmRPkXHeH4Z"
      },
      "execution_count": null,
      "outputs": []
    },
    {
      "cell_type": "code",
      "source": [
        "\n",
        "print(\"Reporte de clasificación con LDA (con el número óptimo de componentes):\")\n",
        "print(classification_report(y_test, y_pred))\n"
      ],
      "metadata": {
        "colab": {
          "base_uri": "https://localhost:8080/"
        },
        "id": "6ne0WctNeO2D",
        "outputId": "2dcac777-204e-4bc9-86e5-6e6d5b6851bc"
      },
      "execution_count": null,
      "outputs": [
        {
          "output_type": "stream",
          "name": "stdout",
          "text": [
            "Reporte de clasificación con LDA (con el número óptimo de componentes):\n",
            "              precision    recall  f1-score   support\n",
            "\n",
            "           0       0.89      0.70      0.79      2387\n",
            "           1       0.36      0.67      0.47       611\n",
            "\n",
            "    accuracy                           0.70      2998\n",
            "   macro avg       0.63      0.68      0.63      2998\n",
            "weighted avg       0.78      0.70      0.72      2998\n",
            "\n"
          ]
        }
      ]
    },
    {
      "cell_type": "code",
      "source": [
        "# Matriz de confusión final\n",
        "conf_matrix = confusion_matrix(y_test, y_pred)\n",
        "sns.heatmap(conf_matrix, annot=True, fmt=\"d\", cmap=\"Blues\", xticklabels=['No Exited', 'Exited'], yticklabels=['No Exited', 'Exited'])\n",
        "plt.title(\"Matriz de Confusión con LDA\")\n",
        "plt.xlabel(\"Predicción\")\n",
        "plt.ylabel(\"Real\")\n",
        "plt.show()"
      ],
      "metadata": {
        "colab": {
          "base_uri": "https://localhost:8080/",
          "height": 472
        },
        "id": "Q6jWzD5ReQfz",
        "outputId": "f0784d3e-597e-46cd-b600-48eefc0443ed"
      },
      "execution_count": null,
      "outputs": [
        {
          "output_type": "display_data",
          "data": {
            "text/plain": [
              "<Figure size 640x480 with 2 Axes>"
            ],
            "image/png": "[encoded data removed]"
          },
          "metadata": {}
        }
      ]
    }
  ]
}