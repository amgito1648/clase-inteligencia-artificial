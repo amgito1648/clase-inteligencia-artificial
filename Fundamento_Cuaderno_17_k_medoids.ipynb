{
  "nbformat": 4,
  "nbformat_minor": 0,
  "metadata": {
    "colab": {
      "provenance": [],
      "include_colab_link": true
    },
    "kernelspec": {
      "name": "python3",
      "display_name": "Python 3"
    },
    "language_info": {
      "name": "python"
    }
  },
  "cells": [
    {
      "cell_type": "markdown",
      "metadata": {
        "id": "view-in-github",
        "colab_type": "text"
      },
      "source": [
        "<a href=\"https://colab.research.google.com/github/amgito1648/clase-inteligencia-artificial/blob/main/Fundamento_Cuaderno_17_k_medoids.ipynb\" target=\"_parent\"><img src=\"https://colab.research.google.com/assets/colab-badge.svg\" alt=\"Open In Colab\"/></a>"
      ]
    },
    {
      "cell_type": "markdown",
      "source": [
        "#<font color=\"blue\">Cuaderno 17. K-Medoids </font>\n",
        "\n",
        "##Introduccion\n",
        "\n",
        "K-Medoids es un algoritmo de clustering similar a K-Means, pero en lugar de usar la media para definir el centroide de un cluster, utiliza el punto más representativo (medoid) de cada grupo. Este enfoque hace que K-Medoids sea más robusto frente a valores atípicos o ruido en los datos, ya que se basa en distancias reales en lugar de promedios.\n",
        "\n",
        "![image](https://github.com/adiacla/bigdata/blob/master/kmedoids.png?raw=true)\n",
        "\n",
        "Diferencia entre Kmedoids y Kmeans. (n.d.). Gráfico representativo del análisis de datos. Imagen. Recuperado de https://i.sstatic.net/ytx3W.png\n",
        "\n",
        "Como se observa en la imagen el centroide de Kmedoids varia con respecto al Kmeans y que este (el centroide) debe ser un punto (un sample) de los datos, mientras que Kmeans es un punto calculado con la media"
      ],
      "metadata": {
        "id": "vIVSBLa33DGP"
      }
    },
    {
      "cell_type": "markdown",
      "source": [
        "##Ventajas de K-Medoids\n",
        "\n",
        "**Robustez ante valores atípicos:**\n",
        "- Los centroides en K-Means pueden desplazarse significativamente debido a valores extremos, mientras que K-Medoids no se ve afectado por esto.\n",
        "\n",
        "**Interpretación más intuitiva:**\n",
        "- Los medoids son puntos reales del conjunto de datos, lo que facilita su análisis y comprensión.\n",
        "\n",
        "**Generalidad:**\n",
        "- Es más adecuado para datos categóricos y métricas de distancia no euclidianas.\n"
      ],
      "metadata": {
        "id": "j8YVUArV42AG"
      }
    },
    {
      "cell_type": "markdown",
      "source": [
        "##Desventajas de K-Medoids\n",
        "\n",
        "**Mayor complejidad computacional:** El cálculo del medoid para cada cluster es más costoso que calcular la media.\n",
        "\n",
        "**Escalabilidad limitada:** No es ideal para conjuntos de datos muy grandes debido a su tiempo de ejecución más largo.\n",
        "\n",
        "**Menor eficiencia en algunos casos:** En datos con alta dimensionalidad, puede ser menos eficiente que K-Means."
      ],
      "metadata": {
        "id": "XGHVE_bp48el"
      }
    },
    {
      "cell_type": "markdown",
      "source": [
        "##Modelo Matemático de K-Medoids\n",
        "\n",
        "**Objetivo:** Minimizar el costo total definido como la suma de distancias entre cada punto y el medoid asignado.\n",
        "\n",
        "$$\n",
        "\\text{Cost} = \\sum_{i=1}^{n} \\sum_{j=1}^{k} \\delta(x_i, m_j)\n",
        "$$\n",
        "Donde:\n",
        "\n",
        "- $x_i$: Punto de datos.\n",
        "- $m_j$: Medoid del cluster \\( j \\).\n",
        "- $\\delta(x_i, m_j)$: Distancia entre el punto de datos $x_i$ y el medoid $m_j$.\n",
        "\n",
        "\n",
        "Definición del medoid:\n",
        "\n",
        "El medoid  $m_j$  se define como el punto dentro del cluster que minimiza la distancia total a los demás puntos del mismo cluster.\n",
        "\n",
        "**Iteración:**\n",
        "\n",
        "Asignar cada punto al cluster cuyo medoid esté más cerca.\n",
        "Recalcular los medoids en cada iteración hasta que no haya cambios significativos.\n"
      ],
      "metadata": {
        "id": "9Iv4Eeur5HeH"
      }
    },
    {
      "cell_type": "markdown",
      "source": [
        "##Taller Clustering de Clientes con K-Medoids\n",
        "\n",
        "Vamos a relizar el mismo taller de clusterizacion de Kmeans usando Kmedoids y verficar la diferencia. El algoritmo K-medoids lo descargamos de la clase KMedoids de la librería sklearn_extra. Dado que las librerias no están preinstaladas debemos ajustar a las versiones y dependencias requeridas."
      ],
      "metadata": {
        "id": "25X-rxjH6JFV"
      }
    },
    {
      "cell_type": "code",
      "source": [
        "import numpy\n",
        "import sklearn\n",
        "\n",
        "print(\"numpy version:\", numpy.__version__)\n",
        "print(\"scikit-learn version:\", sklearn.__version__)\n"
      ],
      "metadata": {
        "id": "LKG9fDjlo7gE"
      },
      "execution_count": null,
      "outputs": []
    },
    {
      "cell_type": "code",
      "source": [
        "!pip uninstall numpy scikit-learn scikit-learn-extra -y\n",
        "!pip install numpy==1.26.4 scikit-learn==1.3.2 scikit-learn-extra==0.3.0\n",
        "\n"
      ],
      "metadata": {
        "id": "cCBDcyW76wds"
      },
      "execution_count": null,
      "outputs": []
    },
    {
      "cell_type": "markdown",
      "source": [
        "## Cargar y Preprocesar los Datos\n",
        "\n",
        "Este bloque de código realiza una serie de pasos fundamentales para cargar, procesar y visualizar un conjunto de datos. A continuación, explico cada paso del código proporcionado."
      ],
      "metadata": {
        "id": "N3Q8D8zc699A"
      }
    },
    {
      "cell_type": "code",
      "execution_count": null,
      "metadata": {
        "id": "73dDTrSt27gE"
      },
      "outputs": [],
      "source": [
        "# Importar bibliotecas necesarias\n",
        "import pandas as pd\n",
        "import numpy as np\n",
        "from sklearn.preprocessing import StandardScaler\n",
        "from sklearn_extra.cluster import KMedoids\n",
        "import matplotlib.pyplot as plt\n",
        "import seaborn as sns\n",
        "\n",
        "# Cargar los datos\n",
        "url = \"https://raw.githubusercontent.com/adiacla/bigdata/refs/heads/master/Shopping_CustomerData.csv\"\n",
        "data = pd.read_csv(url)\n",
        "\n",
        "data"
      ]
    },
    {
      "cell_type": "markdown",
      "source": [
        "##Verificar que no tenga outlier\n",
        "\n",
        "El código genera un gráfico de caja y bigotes (boxplot) para las columnas numéricas del conjunto de datos."
      ],
      "metadata": {
        "id": "WcYejAL07GkR"
      }
    },
    {
      "cell_type": "code",
      "source": [
        "# Seleccionar solo las columnas numéricas\n",
        "numerical_data = data[['Edad', 'Ingresos', 'Credito', 'gastos']]\n",
        "\n",
        "# Crear el gráfico de caja y bigotes\n",
        "plt.figure(figsize=(10, 6))\n",
        "sns.boxplot(data=numerical_data)\n",
        "plt.title('Gráfico de Caja y Bigotes de los Datos Originales')\n",
        "plt.show()"
      ],
      "metadata": {
        "id": "-fqles3N7TeG"
      },
      "execution_count": null,
      "outputs": []
    },
    {
      "cell_type": "markdown",
      "source": [
        "##Codificar la variable 'Genero' (Male = 0, Female = 1):\n",
        "\n",
        "Primero, se codifica la variable categórica 'Genero' (Male = 0, Female = 1) para convertirla en una forma numérica. Luego, se selecciona las columnas numéricas relevantes para el análisis (Edad, Ingresos, Credito, Gastos, Trabajo, y Genero) y se eliminna las no necesarias, como ID y Ciudad.\n",
        "\n",
        "A continuación, normalizamos los datos utilizando el StandardScaler de scikit-learn, asegurando que todas las variables tengan la misma escala (media 0 y desviación estándar 1).\n",
        "Esto es crucial para que ninguna variable, como Ingresos, domine las distancias calculadas en el algoritmo K-means. El resultado es un conjunto de datos listos para ser procesados y segmentados en grupos utilizando técnicas de clustering."
      ],
      "metadata": {
        "id": "gV0T2Yi67YDC"
      }
    },
    {
      "cell_type": "code",
      "source": [
        "# Preprocesamiento: Codificar 'Genero' usando labelencoder de sklearn\n",
        "from sklearn.preprocessing import LabelEncoder\n",
        "label_encoder = LabelEncoder()\n",
        "data['Genero'] = label_encoder.fit_transform(data['Genero'])\n",
        "\n",
        "data\n"
      ],
      "metadata": {
        "id": "oOAOqKVX7HC3"
      },
      "execution_count": null,
      "outputs": []
    },
    {
      "cell_type": "code",
      "source": [
        "#Mostar el atributo que uso para la codificación\n",
        "label_encoder.classes_"
      ],
      "metadata": {
        "id": "3dvGaTEJDcwd"
      },
      "execution_count": null,
      "outputs": []
    },
    {
      "cell_type": "code",
      "source": [
        "#filtrar solo las columnas numericas\n",
        "from sklearn.preprocessing import MinMaxScaler\n",
        "\n",
        "data_numeric=data[['Edad', 'Ingresos', 'Credito', 'gastos',\"Genero\"]]\n",
        "# Escalar los datos\n",
        "scaler = MinMaxScaler()\n",
        "data_scaled = scaler.fit_transform(data_numeric)\n",
        "\n",
        "df_scaled=pd.DataFrame(data_scaled,columns=['Edad', 'Ingresos', 'Credito', 'gastos',\"Genero\"])\n",
        "df_scaled"
      ],
      "metadata": {
        "id": "Norc7VkdTFGe"
      },
      "execution_count": null,
      "outputs": []
    },
    {
      "cell_type": "code",
      "source": [
        "data_numeric.columns"
      ],
      "metadata": {
        "id": "PLxFjCmLTPye"
      },
      "execution_count": null,
      "outputs": []
    },
    {
      "cell_type": "code",
      "source": [
        "#Darle persistencia a scaler y a labelencder\n",
        "import joblib as jb\n",
        "jb.dump(scaler,\"scaler.bin\")\n",
        "jb.dump(label_encoder,\"labelencoder.bin\")"
      ],
      "metadata": {
        "id": "aZNCkGMzDBLl"
      },
      "execution_count": null,
      "outputs": []
    },
    {
      "cell_type": "markdown",
      "source": [
        "## Aplicar el método del codo"
      ],
      "metadata": {
        "id": "pj9dGEF68j4-"
      }
    },
    {
      "cell_type": "code",
      "source": [
        "# Método del Codo: Calcular la inercia (suma de distancias dentro de los clusters)\n",
        "inertia = []\n",
        "for k in range(1, 20):  # Probar con diferentes números de clusters (k)\n",
        "    kmedoids = KMedoids(n_clusters=k, random_state=42)\n",
        "    kmedoids.fit(data_scaled)\n",
        "    inertia.append(kmedoids.inertia_)\n",
        "\n",
        "# Graficar el método del codo\n",
        "plt.plot(range(1, 20), inertia)\n",
        "plt.title(\"Método del Codo para K-Medoids\")\n",
        "plt.xlabel(\"Número de Clusters\")\n",
        "plt.ylabel(\"Inercia\")\n",
        "plt.show()\n"
      ],
      "metadata": {
        "id": "cjbnAAV18nYE"
      },
      "execution_count": null,
      "outputs": []
    },
    {
      "cell_type": "markdown",
      "source": [
        "De acuerdo a los datos anteriores requerimos 2 o 7 cluster para tener los mejores indices de inercia y menor cantidad de clusteres."
      ],
      "metadata": {
        "id": "w4335d6Aqc5K"
      }
    },
    {
      "cell_type": "markdown",
      "source": [
        "##Aplicar el coeficiente silhouette"
      ],
      "metadata": {
        "id": "6D9MelyN8svR"
      }
    },
    {
      "cell_type": "code",
      "source": [
        "from sklearn.metrics import silhouette_score\n",
        "\n",
        "# Definir el rango de posibles números de clusters\n",
        "range_clusters = range(2, 15)\n",
        "\n",
        "# Lista para almacenar las puntuaciones de silueta\n",
        "silhouette_scores = []\n",
        "\n",
        "# Calcular el coeficiente de silueta para cada número de clusters\n",
        "for k in range_clusters:\n",
        "    kmeans = KMedoids(n_clusters=k, random_state=42)\n",
        "    cluster_labels = kmeans.fit_predict(data_scaled)\n",
        "    silhouette_avg = silhouette_score(data_scaled, cluster_labels)\n",
        "    silhouette_scores.append(silhouette_avg)\n",
        "\n",
        "# Graficar el promedio del coeficiente de silueta\n",
        "plt.figure(figsize=(10, 6))\n",
        "plt.plot(range_clusters, silhouette_scores, marker='o')\n",
        "plt.title(\"Método del coeficiente de silueta\")\n",
        "plt.xlabel(\"Número de clusters\")\n",
        "plt.ylabel(\"Coeficiente de silueta promedio\")\n",
        "plt.xticks(range_clusters)\n",
        "plt.show()\n",
        "\n",
        "silhouette_scores"
      ],
      "metadata": {
        "id": "zH8r_dS19Rmu"
      },
      "execution_count": null,
      "outputs": []
    },
    {
      "cell_type": "markdown",
      "source": [
        "Dado que los valores k recomedados son 2 y 7, para efectos de este ejercicio vamos a usar 7, pero k que mas coeficiente de silhouette tiene es el 2."
      ],
      "metadata": {
        "id": "HLmLm2nU9xA0"
      }
    },
    {
      "cell_type": "code",
      "source": [
        "#Convertir a numpy array para manejo fácil\n",
        "scores_array = np.array(silhouette_scores)\n",
        "\n",
        "# Obtener índices ordenados de mayor a menor\n",
        "sorted_indices = scores_array.argsort()[::-1]\n",
        "\n",
        "# Excluir el primero (el mejor) y tomar los siguientes dos\n",
        "second_and_third_best_indices = sorted_indices[0:5]\n",
        "\n",
        "# Mostrar los índices y valores correspondientes\n",
        "for idx in second_and_third_best_indices:\n",
        "    print(f\"Número de grupos: {idx + 2}, Silhouette Score: {silhouette_scores[idx]:.4f}\")"
      ],
      "metadata": {
        "id": "o_Z2CFlPsISA"
      },
      "execution_count": null,
      "outputs": []
    },
    {
      "cell_type": "markdown",
      "source": [
        "Aqui en este modelo nos recomienda 2 clusteres y el segundo es el de 7 k"
      ],
      "metadata": {
        "id": "9bbSo5Cf7hDS"
      }
    },
    {
      "cell_type": "code",
      "source": [
        "# Aplicar K-Medoids\n",
        "kmedoids = KMedoids(n_clusters=7, random_state=42, metric='euclidean')\n",
        "data['Cluster'] = kmedoids.fit_predict(data_scaled)\n",
        "\n",
        "#Imprmir los centriodes\n",
        "print(kmedoids.cluster_centers_)"
      ],
      "metadata": {
        "id": "JK87aetu7hXZ"
      },
      "execution_count": null,
      "outputs": []
    },
    {
      "cell_type": "code",
      "source": [
        "#Desnormalizar los centroides\n",
        "\n",
        "centroids = scaler.inverse_transform(kmedoids.cluster_centers_)\n",
        "centroids=pd.DataFrame(centroids, columns=['Edad', 'Ingresos', 'Credito', 'gastos', 'Genero'])\n",
        "print(centroids)"
      ],
      "metadata": {
        "id": "l6wIbnZu-olt"
      },
      "execution_count": null,
      "outputs": []
    },
    {
      "cell_type": "code",
      "source": [
        "\n",
        "# Visualizar clusters con 'Edad' e 'Ingresos'\n",
        "plt.scatter(data['Edad'], data['Ingresos'], c=data['Cluster'], cmap='viridis')\n",
        "plt.title(\"Clusters de Clientes (K-Medoids)\")\n",
        "plt.xlabel('Edad')\n",
        "plt.ylabel('Ingresos')\n",
        "plt.colorbar(label='Cluster')\n",
        "plt.show()"
      ],
      "metadata": {
        "id": "0r8qKBIYtQwS"
      },
      "execution_count": null,
      "outputs": []
    },
    {
      "cell_type": "code",
      "source": [
        "from sklearn.metrics import silhouette_score\n",
        "# Coeficiente de Silueta para evaluar la calidad de los clusters\n",
        "silhouette_avg = silhouette_score(data_scaled, data['Cluster'])\n",
        "print(f\"El coeficiente de silueta promedio es: {silhouette_avg}\")"
      ],
      "metadata": {
        "id": "Ep31yvtx85Zg"
      },
      "execution_count": null,
      "outputs": []
    },
    {
      "cell_type": "code",
      "source": [
        "# Cambiar el ttipo de categoría\n",
        "data.Cluster = data.Cluster.astype('category')"
      ],
      "metadata": {
        "id": "keKBp3Nfu1bB"
      },
      "execution_count": null,
      "outputs": []
    },
    {
      "cell_type": "code",
      "source": [
        "data.Cluster.value_counts()"
      ],
      "metadata": {
        "id": "UXEeP0WSvGe2"
      },
      "execution_count": null,
      "outputs": []
    },
    {
      "cell_type": "markdown",
      "source": [
        "## **Análisis:**\n",
        "\n",
        "Cluster 0\n",
        "Edad: 40 años\n",
        "\n",
        "Ingresos: $424,173\n",
        "\n",
        "Crédito: 774\n",
        "\n",
        "Gastos: 84\n",
        "\n",
        "Género predominante: Mujeres (0)\n",
        "\n",
        "🧠 Perfil:\n",
        "Mujeres de mediana edad con ingresos altos, buen score de crédito, y gasto alto.\n",
        "\n",
        "🏷️ Nombre sugerido: \"Mujeres Profesionales Estables\"\n",
        "\n",
        "📈 Estrategia comercial:\n",
        "\n",
        "Ofrecer productos de inversión y ahorro a mediano-largo plazo.\n",
        "\n",
        "Promocionar tarjetas premium con beneficios de viajes o cashback.\n",
        "\n",
        "Programas de fidelidad y asesoría financiera personalizada.\n",
        "\n",
        "Enfoque en seguros de vida y salud.\n",
        "\n",
        "Cluster 1\n",
        "Edad: 55 años\n",
        "\n",
        "Ingresos: $443,559\n",
        "\n",
        "Crédito: 648\n",
        "\n",
        "Gastos: 41\n",
        "\n",
        "Género predominante: Mujeres (0)\n",
        "\n",
        "🧠 Perfil:\n",
        "Mujeres mayores con ingresos muy altos, score de crédito más bajo, y gastos moderados.\n",
        "\n",
        "🏷️ Nombre sugerido: \"Prejubiladas Conservadoras\"\n",
        "\n",
        "📈 Estrategia comercial:\n",
        "\n",
        "Promover planes de retiro, pensiones y seguros.\n",
        "\n",
        "Productos con baja exposición al riesgo (depósitos a plazo, fondos conservadores).\n",
        "\n",
        "Mejorar el score crediticio con productos educativos.\n",
        "\n",
        "Incentivos para aumentar el gasto controlado con beneficios exclusivos.\n",
        "\n",
        "Cluster 2\n",
        "Edad: 58 años\n",
        "\n",
        "Ingresos: $151,572\n",
        "\n",
        "Crédito: 767\n",
        "\n",
        "Gastos: 46\n",
        "\n",
        "Género predominante: Mujeres (0)\n",
        "\n",
        "🧠 Perfil:\n",
        "Mujeres mayores con ingresos medios, buen score de crédito, y gasto moderado.\n",
        "\n",
        "🏷️ Nombre sugerido: \"Ahorradoras Cautelosas\"\n",
        "\n",
        "📈 Estrategia comercial:\n",
        "\n",
        "Cuentas de ahorro con beneficios.\n",
        "\n",
        "Microinversiones o fondos de bajo riesgo.\n",
        "\n",
        "Educación financiera para optimizar su retiro.\n",
        "\n",
        "Productos con descuentos por antigüedad o fidelidad.\n",
        "\n",
        "Cluster 3\n",
        "Edad: 33 años\n",
        "\n",
        "Ingresos: $279,227\n",
        "\n",
        "Crédito: 827\n",
        "\n",
        "Gastos: 25\n",
        "\n",
        "Género predominante: Mujeres (0)\n",
        "\n",
        "🧠 Perfil:\n",
        "Mujeres jóvenes-adultas con ingresos buenos, excelente score crediticio, y bajo gasto.\n",
        "\n",
        "🏷️ Nombre sugerido: \"Jóvenes Precavidas\"\n",
        "\n",
        "📈 Estrategia comercial:\n",
        "\n",
        "Ofrecer créditos hipotecarios o educativos.\n",
        "\n",
        "Incentivar el gasto responsable mediante recompensas.\n",
        "\n",
        "Tarjetas con beneficios en estilo de vida (moda, viajes, tech).\n",
        "\n",
        "Productos financieros con beneficios por comportamiento crediticio ejemplar.\n",
        "\n",
        "Cluster 4\n",
        "Edad: 50 años\n",
        "\n",
        "Ingresos: $299,609\n",
        "\n",
        "Crédito: 701\n",
        "\n",
        "Gastos: 42\n",
        "\n",
        "Género predominante: Hombres (1)\n",
        "\n",
        "🧠 Perfil:\n",
        "Hombres maduros con ingresos altos, crédito decente y gasto medio.\n",
        "\n",
        "🏷️ Nombre sugerido: \"Hombres Ejecutivos Estables\"\n",
        "\n",
        "📈 Estrategia comercial:\n",
        "\n",
        "Paquetes premium de servicios bancarios.\n",
        "\n",
        "Inversiones diversificadas (fondos, acciones).\n",
        "\n",
        "Beneficios personalizados en tarjetas de crédito.\n",
        "\n",
        "Servicios bancarios con atención exclusiva o ejecutiva.\n",
        "\n",
        "Cluster 5\n",
        "Edad: 37 años\n",
        "\n",
        "Ingresos: $142,909\n",
        "\n",
        "Crédito: 637\n",
        "\n",
        "Gastos: 30\n",
        "\n",
        "Género predominante: Mujeres (0)\n",
        "\n",
        "🧠 Perfil:\n",
        "Mujeres jóvenes con ingresos bajos, bajo crédito, y gastos bajos.\n",
        "\n",
        "🏷️ Nombre sugerido: \"Emprendedoras en Crecimiento\"\n",
        "\n",
        "📈 Estrategia comercial:\n",
        "\n",
        "Educación financiera y mejora del historial crediticio.\n",
        "\n",
        "Microcréditos para emprendimientos.\n",
        "\n",
        "Programas de lealtad e incentivos por uso responsable.\n",
        "\n",
        "Paquetes bancarios sin comisiones o con beneficios iniciales.\n",
        "\n",
        "Cluster 6\n",
        "Edad: 48 años\n",
        "\n",
        "Ingresos: $179,271\n",
        "\n",
        "Crédito: 669\n",
        "\n",
        "Gastos: 97\n",
        "\n",
        "Género predominante: Mujeres (0)\n",
        "\n",
        "🧠 Perfil:\n",
        "Mujeres de mediana edad, ingresos medios, gasto alto, crédito moderado.\n",
        "\n",
        "🏷️ Nombre sugerido: \"Consumidoras Activas\"\n",
        "\n",
        "📈 Estrategia comercial:\n",
        "\n",
        "Programas de cashback o recompensas por gasto frecuente.\n",
        "\n",
        "Ofertas personalizadas según patrones de consumo.\n",
        "\n",
        "Mejora del crédito a través de tarjetas con límites controlados.\n",
        "\n",
        "Promoción cruzada con marcas de consumo masivo.\n",
        "\n",
        "\n",
        "\n",
        "##**Conclusión Final:**\n",
        "\n",
        "A partir de los análisis de los centroides de los clusters, puedes observar que cada grupo tiene diferentes combinaciones de edad, ingresos, crédito, gastos y género. Los nombres propuestos para cada cluster reflejan estas características, lo que te permitirá interpretar los datos de manera más sencilla y descriptiva."
      ],
      "metadata": {
        "id": "KceFft207ikj"
      }
    }
  ]
}