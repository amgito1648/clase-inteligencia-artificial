{
  "nbformat": 4,
  "nbformat_minor": 0,
  "metadata": {
    "colab": {
      "provenance": [],
      "authorship_tag": "ABX9TyNvvJqbPSJjm1gWyZw5x8Ne",
      "include_colab_link": true
    },
    "kernelspec": {
      "name": "python3",
      "display_name": "Python 3"
    },
    "language_info": {
      "name": "python"
    }
  },
  "cells": [
    {
      "cell_type": "markdown",
      "metadata": {
        "id": "view-in-github",
        "colab_type": "text"
      },
      "source": [
        "<a href=\"https://colab.research.google.com/github/amgito1648/clase-inteligencia-artificial/blob/main/Cuaderno_8.ipynb\" target=\"_parent\"><img src=\"https://colab.research.google.com/assets/colab-badge.svg\" alt=\"Open In Colab\"/></a>"
      ]
    },
    {
      "cell_type": "code",
      "execution_count": null,
      "metadata": {
        "id": "li8DFG_gXkx6"
      },
      "outputs": [],
      "source": []
    },
    {
      "cell_type": "markdown",
      "source": [
        "#Naiive Bayes\n",
        "clase 13-03-2025\n",
        "#Preprocessing\n",
        "importar\n",
        "declarar\n",
        "entrenar y transformar\n",
        "fit_transform\n",
        "\n",
        "prersistencia\n",
        "bd.dump()\n",
        "\n",
        "\n",
        "#Machine Learning\n",
        "Importar\n",
        "Declarar\n",
        "Entrenar\n",
        "Entrenamos 80%\n",
        "Predecir 20%\n",
        "metrias.\n",
        "Persistencia.\n",
        "\n",
        "falsos positivos.\n",
        "falso negativo."
      ],
      "metadata": {
        "id": "7C4B7Fk1YX7H"
      }
    }
  ]
}