{
  "nbformat": 4,
  "nbformat_minor": 0,
  "metadata": {
    "colab": {
      "provenance": [],
      "authorship_tag": "ABX9TyPfhcqSthoWXlTshi28MBw/",
      "include_colab_link": true
    },
    "kernelspec": {
      "name": "python3",
      "display_name": "Python 3"
    },
    "language_info": {
      "name": "python"
    }
  },
  "cells": [
    {
      "cell_type": "markdown",
      "metadata": {
        "id": "view-in-github",
        "colab_type": "text"
      },
      "source": [
        "<a href=\"https://colab.research.google.com/github/amgito1648/clase-inteligencia-artificial/blob/main/EDA.ipynb\" target=\"_parent\"><img src=\"https://colab.research.google.com/assets/colab-badge.svg\" alt=\"Open In Colab\"/></a>"
      ]
    },
    {
      "cell_type": "code",
      "execution_count": null,
      "metadata": {
        "id": "UmMboYUdT0Jp"
      },
      "outputs": [],
      "source": []
    },
    {
      "cell_type": "markdown",
      "source": [
        "Cuaderno de practicas de tipo de datos.\n",
        "\n",
        "\n",
        "aqui voy a colocar ejemplos\n",
        "\n",
        "\n"
      ],
      "metadata": {
        "id": "lR9T2EngT31v"
      }
    },
    {
      "cell_type": "code",
      "source": [
        "import pandas as pd\n",
        "import numpy as np\n",
        "\n",
        "df = pd.read_csv(https://raw.githubusercontent.com/adiacla/bigdata/refs/heads/master/vivienda_clasificacion.csv)\n",
        "df\n"
      ],
      "metadata": {
        "id": "dvk2pPZmWBeT"
      },
      "execution_count": 1,
      "outputs": []
    }
  ]
}