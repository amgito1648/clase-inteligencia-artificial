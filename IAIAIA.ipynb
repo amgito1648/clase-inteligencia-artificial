{
  "nbformat": 4,
  "nbformat_minor": 0,
  "metadata": {
    "colab": {
      "provenance": [],
      "include_colab_link": true
    },
    "kernelspec": {
      "name": "python3",
      "display_name": "Python 3"
    },
    "language_info": {
      "name": "python"
    }
  },
  "cells": [
    {
      "cell_type": "markdown",
      "metadata": {
        "id": "view-in-github",
        "colab_type": "text"
      },
      "source": [
        "<a href=\"https://colab.research.google.com/github/amgito1648/clase-inteligencia-artificial/blob/main/IAIAIA.ipynb\" target=\"_parent\"><img src=\"https://colab.research.google.com/assets/colab-badge.svg\" alt=\"Open In Colab\"/></a>"
      ]
    },
    {
      "cell_type": "markdown",
      "source": [
        "# Parcial Segundo Corte de Inteligencia Artificial\n",
        "\n",
        "Ralph Castellanos Couott - U00175144"
      ],
      "metadata": {
        "id": "PDu9N0JSutwQ"
      }
    },
    {
      "cell_type": "code",
      "execution_count": null,
      "metadata": {
        "id": "iDacbhLUtbDi"
      },
      "outputs": [],
      "source": [
        "from sklearn.datasets import make_regression\n",
        "import random\n",
        "import numpy as np\n",
        "import pandas as pd\n",
        "\n",
        "# Configurar semilla para reproducibilidad\n",
        "np.random.seed(42)\n",
        "random.seed(42)"
      ]
    },
    {
      "cell_type": "code",
      "source": [
        "# 2. Generación de datos sintéticos (valores positivos)\n",
        "# =====================\n",
        "X, y = make_regression(\n",
        "    n_samples=300,\n",
        "    n_features=10,\n",
        "    noise=3.0,\n",
        "    effective_rank=5,\n",
        "    tail_strength=0.8,\n",
        "    random_state=42\n",
        ")"
      ],
      "metadata": {
        "id": "_cJlU95EvdL5"
      },
      "execution_count": null,
      "outputs": []
    },
    {
      "cell_type": "code",
      "source": [
        "# Desplazar todos los valores para asegurar que sean positivos\n",
        "X = X - X.min(axis=0) + 1  # ahora todos los valores de X >= 1\n",
        "y = y - y.min() + 1        # ahora todos los valores de y >= 1"
      ],
      "metadata": {
        "id": "bPefV8yvwB96"
      },
      "execution_count": null,
      "outputs": []
    },
    {
      "cell_type": "code",
      "source": [
        "# Nombres descriptivos en español\n",
        "nombres_columnas = [\n",
        "    'edad', 'ingresos', 'años_educacion', 'tasa_empleo', 'densidad_poblacional',\n",
        "    'temperatura_promedio', 'indice_salud', 'acceso_servicios',\n",
        "    'nivel_urbanizacion', 'penetracion_tecnologica'\n",
        "]"
      ],
      "metadata": {
        "id": "vjoXCnZ7wDWa"
      },
      "execution_count": null,
      "outputs": []
    },
    {
      "cell_type": "code",
      "source": [
        "# Crear DataFrame\n",
        "df = pd.DataFrame(X, columns=nombres_columnas)\n",
        "df['indice_desarrollo'] = y  # Variable objetivo\n",
        "df.head()"
      ],
      "metadata": {
        "id": "zEYA4ALIwGwB"
      },
      "execution_count": null,
      "outputs": []
    },
    {
      "cell_type": "code",
      "source": [
        "df.describe().T"
      ],
      "metadata": {
        "id": "KJA9ld6SwUya"
      },
      "execution_count": null,
      "outputs": []
    },
    {
      "cell_type": "code",
      "source": [
        "# Insertar >50% de valores nulos en una columna (e.g., 'indice_salud')\n",
        "df.loc[:160, 'indice_salud'] = np.nan  # 161 valores nulos (~53%)"
      ],
      "metadata": {
        "id": "WBOEnL1ywhyK"
      },
      "execution_count": null,
      "outputs": []
    },
    {
      "cell_type": "code",
      "source": [
        "# Insertar <5% de valores nulos en 2 columnas aleatorias\n",
        "for col in ['edad', 'temperatura_promedio']:\n",
        "    n_nulos = int(len(df) * 0.04)  # 4%\n",
        "    indices = random.sample(range(len(df)), n_nulos)\n",
        "    df.loc[indices, col] = np.nan"
      ],
      "metadata": {
        "id": "otSRMEbAwqWy"
      },
      "execution_count": null,
      "outputs": []
    },
    {
      "cell_type": "code",
      "source": [
        "# Insertar outliers en 2 columnas ('ingresos' y 'años_educacion')\n",
        "outliers_ingresos = [5000, -4000, 6000, 7000, -3500]\n",
        "df.loc[[5, 15, 25, 35, 45], 'ingresos'] = outliers_ingresos"
      ],
      "metadata": {
        "id": "KmpvEZIVwv7C"
      },
      "execution_count": null,
      "outputs": []
    },
    {
      "cell_type": "code",
      "source": [
        "outliers_educacion = [50, 60, 70, -10]\n",
        "df.loc[[60, 70, 80, 90], 'años_educacion'] = outliers_educacion"
      ],
      "metadata": {
        "id": "rxw7i9GbwyPL"
      },
      "execution_count": null,
      "outputs": []
    },
    {
      "cell_type": "code",
      "source": [
        "# Insertar caracteres extraños en una columna y convertir a tipo object\n",
        "df['acceso_servicios'] = df['acceso_servicios'].astype(str)\n",
        "df.loc[[100, 120, 140], 'acceso_servicios'] = ['#¡VALOR!', '???', '%%error%%']"
      ],
      "metadata": {
        "id": "hVLnmiX8w1Fa"
      },
      "execution_count": null,
      "outputs": []
    },
    {
      "cell_type": "code",
      "source": [
        "# Verificar tipos de datos (opcional)\n",
        "print(df.dtypes)"
      ],
      "metadata": {
        "id": "YF4BhCtRw8Oi"
      },
      "execution_count": null,
      "outputs": []
    },
    {
      "cell_type": "code",
      "source": [
        "df.head()"
      ],
      "metadata": {
        "id": "R71ftX10xAZS"
      },
      "execution_count": null,
      "outputs": []
    },
    {
      "cell_type": "code",
      "source": [
        "df.describe().T"
      ],
      "metadata": {
        "id": "1CJj-YULxhnD"
      },
      "execution_count": null,
      "outputs": []
    },
    {
      "cell_type": "code",
      "source": [
        "#Mirar cuántos valores atípicos hay en el DataFrame\n",
        "df.isnull().sum()"
      ],
      "metadata": {
        "id": "kWX0QTj6yBVj"
      },
      "execution_count": null,
      "outputs": []
    },
    {
      "cell_type": "code",
      "source": [
        "# Convertir a numérico los valores presentes en la columna acceso_servicios, ya que a diferencia de los demás, es el único de tipo object\n",
        "df['acceso_servicios'] = pd.to_numeric(df['acceso_servicios'], errors='coerce')\n",
        "\n",
        "# Eliminar filas con NaN en esa columna\n",
        "df = df.dropna(subset=['acceso_servicios'])"
      ],
      "metadata": {
        "id": "_fOuq-Mtz8zV"
      },
      "execution_count": null,
      "outputs": []
    },
    {
      "cell_type": "code",
      "source": [
        "#Mirar que efectivamente ocurrió el cambio a tipo float64\n",
        "print(df['acceso_servicios'].dtype)"
      ],
      "metadata": {
        "id": "AG5VRDJ31U5u"
      },
      "execution_count": null,
      "outputs": []
    },
    {
      "cell_type": "code",
      "source": [
        "# 1. Eliminar la columna 'indice_salud' al tener más del 50% de valores nulos\n",
        "porcentaje_nulos = df['indice_salud'].isna().mean()\n",
        "if porcentaje_nulos > 0.5:\n",
        "    df = df.drop(columns=['indice_salud'])\n",
        "\n",
        "# 2. Imputar valores nulos con la mediana en las columnas que contienen valores atípicos (edad, temperatura_promedio)\n",
        "for columna in ['edad', 'temperatura_promedio']:\n",
        "    mediana = df[columna].median()\n",
        "    df[columna] = df[columna].fillna(mediana)"
      ],
      "metadata": {
        "id": "4s02Fe4b2fcI"
      },
      "execution_count": null,
      "outputs": []
    },
    {
      "cell_type": "code",
      "source": [
        "#Revisar que no haya quedado ningún valor atípico en el DataFrame\n",
        "df.isnull().sum()"
      ],
      "metadata": {
        "id": "KNuPkkSV4C5q"
      },
      "execution_count": null,
      "outputs": []
    },
    {
      "cell_type": "code",
      "source": [
        "def winsorizar_columna(df, columna, limite_inferior=0.01, limite_superior=0.99):\n",
        "    p_inf = df[columna].quantile(limite_inferior)\n",
        "    p_sup = df[columna].quantile(limite_superior)\n",
        "    df[columna] = np.clip(df[columna], p_inf, p_sup)\n",
        "\n",
        "# Aplicar winsorización a las columnas con outliers\n",
        "winsorizar_columna(df, 'ingresos')\n",
        "winsorizar_columna(df, 'años_educacion')"
      ],
      "metadata": {
        "id": "3dpoziPR4FpQ"
      },
      "execution_count": null,
      "outputs": []
    },
    {
      "cell_type": "code",
      "source": [
        "df.dtypes"
      ],
      "metadata": {
        "id": "hXqnrgin5ILT"
      },
      "execution_count": null,
      "outputs": []
    },
    {
      "cell_type": "code",
      "source": [
        "def winsorizar_columna(df, columna, limite_inferior=0.01, limite_superior=0.99):\n",
        "    p_inf = df[columna].quantile(limite_inferior)\n",
        "    p_sup = df[columna].quantile(limite_superior)\n",
        "    df[columna] = np.clip(df[columna], p_inf, p_sup)\n",
        "\n",
        "# Aplicar a todas las columnas numéricas\n",
        "columnas_numericas = df.select_dtypes(include=['float64']).columns\n",
        "\n",
        "for col in columnas_numericas:\n",
        "    winsorizar_columna(df, col, 0.01, 0.99)"
      ],
      "metadata": {
        "id": "AYPgmFmS6VbL"
      },
      "execution_count": null,
      "outputs": []
    },
    {
      "cell_type": "code",
      "source": [
        "#Generar la caja de bigotes para cada columna\n",
        "import matplotlib.pyplot as plt\n",
        "import seaborn as sns\n",
        "\n",
        "# Filtrar solo las columnas numéricas (float)\n",
        "columnas_numericas = df.select_dtypes(include=['float64']).columns\n",
        "\n",
        "# Crear un boxplot para cada columna numérica\n",
        "for col in columnas_numericas:\n",
        "    plt.figure(figsize=(6, 4))\n",
        "    sns.boxplot(x=df[col], color='skyblue')\n",
        "    plt.title(f'Boxplot de {col}')\n",
        "    plt.xlabel(col)\n",
        "    plt.grid(True, linestyle='--', alpha=0.5)\n",
        "    plt.tight_layout()\n",
        "    plt.show()"
      ],
      "metadata": {
        "id": "I783iTxL5S6q"
      },
      "execution_count": null,
      "outputs": []
    },
    {
      "cell_type": "code",
      "source": [
        "#Generar un mapa de calor para visualizar la matriz de correlación\n",
        "\n",
        "# Seleccionar variables numéricas (float)\n",
        "variables_numericas = df.select_dtypes(include=[\"float\"])\n",
        "\n",
        "# Calcular la matriz de correlación\n",
        "correlaciones = variables_numericas.corr()\n",
        "# Crear el heatmap\n",
        "plt.figure(figsize=(10, 8))  # Ajusta el tamaño según tu gusto\n",
        "sns.heatmap(correlaciones, annot=True, cmap='coolwarm', fmt=\".2f\", linewidths=0.5)\n",
        "plt.title('Matriz de correlación entre variables numéricas')\n",
        "plt.xticks(rotation=45)\n",
        "plt.yticks(rotation=0)\n",
        "plt.tight_layout()\n",
        "plt.show()"
      ],
      "metadata": {
        "id": "0sZfKVsx6ifM"
      },
      "execution_count": null,
      "outputs": []
    },
    {
      "cell_type": "markdown",
      "source": [
        "El mapa de calor nos indica que las columnas no están fuertemente colineadas entre ellos, ya que ninguna llega a ser igual o mayor del 80%"
      ],
      "metadata": {
        "id": "bVgZuusS7u8N"
      }
    },
    {
      "cell_type": "code",
      "source": [
        "from sklearn.model_selection import train_test_split, GridSearchCV\n",
        "from sklearn.linear_model import LinearRegression\n",
        "from sklearn.neighbors import KNeighborsRegressor\n",
        "from sklearn.svm import SVR\n",
        "from sklearn.ensemble import RandomForestRegressor\n",
        "from xgboost import XGBRegressor\n",
        "\n",
        "from sklearn.metrics import r2_score, mean_squared_error, mean_absolute_error"
      ],
      "metadata": {
        "id": "F3uqihwc75mt"
      },
      "execution_count": null,
      "outputs": []
    },
    {
      "cell_type": "code",
      "source": [
        "# Separar variables predictoras y objetivo\n",
        "X = df.drop(columns='indice_desarrollo')\n",
        "y = df['indice_desarrollo']\n",
        "\n",
        "# División entrenamiento/prueba\n",
        "X_train, X_test, y_train, y_test = train_test_split(X, y, test_size=0.2, random_state=42)"
      ],
      "metadata": {
        "id": "GreDDZPV8V8-"
      },
      "execution_count": null,
      "outputs": []
    },
    {
      "cell_type": "code",
      "source": [
        "modelos = {\n",
        "    \"Regresión Lineal\": (LinearRegression(), {}),\n",
        "    \"KNN\": (KNeighborsRegressor(), {'n_neighbors': [3, 5, 7]}),\n",
        "    \"SVR\": (SVR(), {'C': [0.1, 1, 10], 'kernel': ['linear', 'rbf']}),\n",
        "    \"XGBoost\": (XGBRegressor(verbosity=0), {'n_estimators': [100, 200], 'max_depth': [3, 5]}),\n",
        "    \"Random Forest\": (RandomForestRegressor(), {'n_estimators': [100, 200], 'max_depth': [5, 10]})\n",
        "}"
      ],
      "metadata": {
        "id": "AdMYThoO8akm"
      },
      "execution_count": null,
      "outputs": []
    },
    {
      "cell_type": "code",
      "source": [
        "def evaluar_modelo(y_true, y_pred):\n",
        "    r2 = r2_score(y_true, y_pred)\n",
        "    rmse = np.sqrt(mean_squared_error(y_true, y_pred))  # Cálculo manual\n",
        "    mae = mean_absolute_error(y_true, y_pred)\n",
        "    mape = np.mean(np.abs((y_true - y_pred) / y_true)) * 100\n",
        "    return r2, rmse, mae, mape\n",
        "\n",
        "resultados = {}\n",
        "\n",
        "for nombre, (modelo, params) in modelos.items():\n",
        "    grid = GridSearchCV(modelo, params, cv=5, scoring='r2', n_jobs=-1)\n",
        "    grid.fit(X_train, y_train)\n",
        "    best_model = grid.best_estimator_\n",
        "    y_pred = best_model.predict(X_test)\n",
        "\n",
        "    r2, rmse, mae, mape = evaluar_modelo(y_test, y_pred)\n",
        "    resultados[nombre] = {'R2': r2, 'RMSE': rmse, 'MAE': mae, 'MAPE': mape}\n",
        "\n",
        "    # Visualización: pred vs real\n",
        "    plt.figure(figsize=(6, 4))\n",
        "    sns.scatterplot(x=y_test, y=y_pred)\n",
        "    plt.plot([y_test.min(), y_test.max()], [y_test.min(), y_test.max()], 'r--')\n",
        "    plt.xlabel(\"Real\")\n",
        "    plt.ylabel(\"Predicción\")\n",
        "    plt.title(f\"{nombre} - Real vs Predicción\")\n",
        "    plt.grid(True)\n",
        "    plt.tight_layout()\n",
        "    plt.show()\n",
        "\n",
        "    # Visualización: residuos\n",
        "    residuales = y_test - y_pred\n",
        "    plt.figure(figsize=(6, 4))\n",
        "    sns.histplot(residuales, kde=True, bins=20)\n",
        "    plt.title(f\"{nombre} - Distribución de residuos\")\n",
        "    plt.xlabel(\"Error\")\n",
        "    plt.grid(True)\n",
        "    plt.tight_layout()\n",
        "    plt.show()"
      ],
      "metadata": {
        "id": "2nVztNl_8fJ3"
      },
      "execution_count": null,
      "outputs": []
    },
    {
      "cell_type": "code",
      "source": [
        "import pandas as pd\n",
        "\n",
        "df_resultados = pd.DataFrame(resultados).T\n",
        "print(\"Comparación de modelos:\")\n",
        "print(df_resultados.sort_values(by='R2', ascending=False))"
      ],
      "metadata": {
        "id": "7O1R48nr9Aum"
      },
      "execution_count": null,
      "outputs": []
    },
    {
      "cell_type": "markdown",
      "source": [
        "Teniendo en cuenta los resultados y datos que muestra la comparación entre los 5 modelos (Regresión Lineal, KNN Regressor, SVR, XGBoost Regressor y Random Forest Regressor) el mejor fue el de SVR debido a lo siguiente:\n",
        "\n",
        "\n",
        "*   Su R2 fue el más alto entre los modelos, de 85%, lo que indica que tuvo una mejor captura entre las variables.\n",
        "*   Poseía el RMSE, MAE y MAPE más bajo entre todos\n",
        "\n",
        "\n",
        "\n"
      ],
      "metadata": {
        "id": "ldNck3hl9IJX"
      }
    }
  ]
}